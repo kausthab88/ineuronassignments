{
 "cells": [
  {
   "cell_type": "markdown",
   "id": "a63d7e65",
   "metadata": {},
   "source": [
    "#### 1.\tWrite a Python Program to Find the Factorial of a Number?"
   ]
  },
  {
   "cell_type": "code",
   "execution_count": 24,
   "id": "36af0e89",
   "metadata": {},
   "outputs": [
    {
     "name": "stdout",
     "output_type": "stream",
     "text": [
      "Please enter the number: 0\n",
      "The factorial of 0 is 1\n",
      "Please enter the number: -1\n",
      "Please enter a valid positive integer\n",
      "Please enter the number: 10\n",
      "The factorial of 10 is 3628800\n"
     ]
    }
   ],
   "source": [
    "is_calc = True\n",
    "\n",
    "while is_calc:\n",
    "    n = int(input('Please enter the number: '))\n",
    "    fact = 1\n",
    "    if n < 0:\n",
    "        print('Please enter a valid positive integer')\n",
    "        pass\n",
    "    elif n ==0:\n",
    "        print('The factorial of 0 is 1')\n",
    "    else:\n",
    "        for i in range(1,n + 1):\n",
    "            fact = fact * i\n",
    "        print(f'The factorial of {n} is {fact}')\n",
    "        is_calc=False"
   ]
  },
  {
   "cell_type": "markdown",
   "id": "3fa4fd48",
   "metadata": {},
   "source": [
    "#### 2.\tWrite a Python Program to Display the multiplication Table?"
   ]
  },
  {
   "cell_type": "code",
   "execution_count": 1,
   "id": "46726c5e",
   "metadata": {},
   "outputs": [],
   "source": [
    "import logging as log"
   ]
  },
  {
   "cell_type": "code",
   "execution_count": 53,
   "id": "3a1c3165",
   "metadata": {},
   "outputs": [
    {
     "name": "stdout",
     "output_type": "stream",
     "text": [
      "Which multiplication table would you like to see: 3\n",
      "3x1 = 3\n",
      "3x2 = 6\n",
      "3x3 = 9\n",
      "3x4 = 12\n",
      "3x5 = 15\n",
      "3x6 = 18\n",
      "3x7 = 21\n",
      "3x8 = 24\n",
      "3x9 = 27\n",
      "3x10 = 30\n"
     ]
    }
   ],
   "source": [
    "\n",
    "\n",
    "n = int(input('Which multiplication table would you like to see: '))\n",
    "try:\n",
    "    if n == 0:  \n",
    "        print('The multiplication table for 0 does not exist. Please enter a valid number')\n",
    "except Exception as e:\n",
    "    print(e)\n",
    "else:\n",
    "    if n>0:\n",
    "        for i in range(1,11):\n",
    "            print(f'{n}x{i} = {i*n}')"
   ]
  },
  {
   "cell_type": "markdown",
   "id": "27b4eaf0",
   "metadata": {},
   "source": [
    "#### 3.\tWrite a Python Program to Print the Fibonacci sequence?"
   ]
  },
  {
   "cell_type": "code",
   "execution_count": 3,
   "id": "782ebd83",
   "metadata": {},
   "outputs": [
    {
     "name": "stdout",
     "output_type": "stream",
     "text": [
      "Enter the range of the Fibonacci Sequence: 8\n",
      "The Fibonacci sequence is: \n",
      "1\n",
      "1\n",
      "2\n",
      "3\n",
      "5\n",
      "8\n",
      "13\n",
      "21\n"
     ]
    }
   ],
   "source": [
    "log.basicConfig(filename = 'assignment_error.log', level = log.INFO, format = '%(asctime)s %(message)s')\n",
    "\n",
    "try:\n",
    "    a = 0\n",
    "    b = 1\n",
    "    n = int(input(\"Enter the range of the Fibonacci Sequence: \"))\n",
    "    print('The Fibonacci sequence is: ')\n",
    "    for i in range(1,n+1):\n",
    "        a,b = b,a+b\n",
    "        print(a)\n",
    "except Exception as e:\n",
    "    log.info('log info for this code')\n",
    "    log.error('incorrect character entry')\n",
    "    print('The error exountered is: ',e)"
   ]
  },
  {
   "cell_type": "markdown",
   "id": "8ddf2c06",
   "metadata": {},
   "source": [
    "#### 4.\tWrite a Python Program to Check Armstrong Number?"
   ]
  },
  {
   "cell_type": "code",
   "execution_count": 54,
   "id": "e6f3efdb",
   "metadata": {},
   "outputs": [
    {
     "name": "stdout",
     "output_type": "stream",
     "text": [
      "Enter the number you want to check as Armstrong number: 371\n",
      "The sum of the digits of the digits raised to the power of the no of digits is:  371\n",
      "The number is a Armstrong number\n"
     ]
    }
   ],
   "source": [
    "try:\n",
    "    n = input(\"Enter the number you want to check as Armstrong number: \")\n",
    "    p = int(n)\n",
    "    n.split()\n",
    "    count = 0\n",
    "    for i in n:\n",
    "        i= int(i)\n",
    "        count = count + (i**len(n))\n",
    "    print(\"The sum of the digits of the digits raised to the power of the no of digits is: \",count)\n",
    "\n",
    "    if count == p:\n",
    "        print('The number is a Armstrong number')\n",
    "    else:\n",
    "        print(f\"{n} is not a Armstrong number \")\n",
    "except Exception as e:\n",
    "    log.info('log info for armstrong code')\n",
    "    log.error('incorrect character entry')\n",
    "    print(e)"
   ]
  },
  {
   "cell_type": "markdown",
   "id": "d520c4e8",
   "metadata": {},
   "source": [
    "#### 5.\tWrite a Python Program to Find Armstrong Number in an Interval?"
   ]
  },
  {
   "cell_type": "code",
   "execution_count": 62,
   "id": "a2522172",
   "metadata": {
    "scrolled": true
   },
   "outputs": [
    {
     "name": "stdout",
     "output_type": "stream",
     "text": [
      "Enter the start of the range: 100\n",
      "Enter the end of the range: 1000\n",
      "153\n",
      "370\n",
      "371\n",
      "407\n",
      "code executed successfully\n"
     ]
    }
   ],
   "source": [
    "try:\n",
    "    p = int(input(\"Enter the start of the range: \"))\n",
    "    q = int(input(\"Enter the end of the range: \"))\n",
    "    \n",
    "except Exception as e:\n",
    "    log.info('log info for armstrong in a range code')\n",
    "    log.error('incorrect character entry')\n",
    "    print(e)\n",
    "    \n",
    "\n",
    "try:\n",
    "    count = 0\n",
    "    for i in range(p, q+1):\n",
    "        j = list(str(i))\n",
    "        for k in j:\n",
    "            k = int(k)\n",
    "            count = count + (k**len(j))\n",
    "        if count == i:\n",
    "            print(count)\n",
    "        count = 0\n",
    "finally:\n",
    "    print('code executed successfully')"
   ]
  },
  {
   "cell_type": "markdown",
   "id": "f5fbabe8",
   "metadata": {},
   "source": [
    "#### 6.\tWrite a Python Program to Find the Sum of Natural Numbers?"
   ]
  },
  {
   "cell_type": "code",
   "execution_count": 68,
   "id": "4e339d29",
   "metadata": {},
   "outputs": [
    {
     "name": "stdout",
     "output_type": "stream",
     "text": [
      "How many natural numbers' sum do you want: 100\n",
      "The sum of 100 natural numbers is  5050\n"
     ]
    }
   ],
   "source": [
    "n = int(input(\"How many natural numbers' sum do you want: \"))\n",
    "count = 0\n",
    "\n",
    "for i in range(1,n+1):\n",
    "    count = count+i\n",
    "print(f\"The sum of {n} natural numbers is \",count)\n"
   ]
  }
 ],
 "metadata": {
  "kernelspec": {
   "display_name": "Python 3",
   "language": "python",
   "name": "python3"
  },
  "language_info": {
   "codemirror_mode": {
    "name": "ipython",
    "version": 3
   },
   "file_extension": ".py",
   "mimetype": "text/x-python",
   "name": "python",
   "nbconvert_exporter": "python",
   "pygments_lexer": "ipython3",
   "version": "3.8.3"
  }
 },
 "nbformat": 4,
 "nbformat_minor": 5
}
