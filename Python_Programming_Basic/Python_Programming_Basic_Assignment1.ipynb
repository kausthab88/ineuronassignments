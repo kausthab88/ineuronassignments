{
 "cells": [
  {
   "cell_type": "markdown",
   "id": "ced93192",
   "metadata": {},
   "source": [
    "#### 1.\tWrite a Python program to print \"Hello Python\"?"
   ]
  },
  {
   "cell_type": "code",
   "execution_count": 3,
   "id": "166c908a",
   "metadata": {},
   "outputs": [
    {
     "name": "stdout",
     "output_type": "stream",
     "text": [
      "\"Hello Python\"\n"
     ]
    }
   ],
   "source": [
    "a = '\"Hello Python\"'\n",
    "\n",
    "print(a)"
   ]
  },
  {
   "cell_type": "markdown",
   "id": "9e894b1c",
   "metadata": {},
   "source": [
    "#### 2.\tWrite a Python program to do arithmetical operations addition and division.?"
   ]
  },
  {
   "cell_type": "code",
   "execution_count": 7,
   "id": "928ae3d9",
   "metadata": {},
   "outputs": [
    {
     "name": "stdout",
     "output_type": "stream",
     "text": [
      "Enter the first number: 45\n",
      "Enter the first number: 22.5\n",
      "The sum of 45.0 and 22.5 is 67.5.\n",
      "The quotient of 45.0 and 22.5 is 2.0.\n"
     ]
    }
   ],
   "source": [
    "a = float(input(\"Enter the first number: \"))\n",
    "\n",
    "b= float(input(\"Enter the first number: \"))\n",
    "\n",
    "add = a + b \n",
    "\n",
    "print(f\"The sum of {a} and {b} is {add}.\")\n",
    "\n",
    "division = a/b\n",
    "\n",
    "print(f\"The quotient of {a} and {b} is {division}.\")"
   ]
  },
  {
   "cell_type": "markdown",
   "id": "5602a71e",
   "metadata": {},
   "source": [
    "#### 3.\tWrite a Python program to find the area of a triangle?"
   ]
  },
  {
   "cell_type": "code",
   "execution_count": 8,
   "id": "0cc323ad",
   "metadata": {},
   "outputs": [
    {
     "name": "stdout",
     "output_type": "stream",
     "text": [
      "Enter the dimension of the Triangle base in cm: 34\n",
      "Enter the dimension of the Triangle height in cm: 50\n",
      "The area of the triangle is 850.0 cm square.\n"
     ]
    }
   ],
   "source": [
    "#Area of a Triangle is 1/2 * base * height\n",
    "\n",
    "base = float(input(\"Enter the dimension of the Triangle base in cm: \"))\n",
    "height = float(input(\"Enter the dimension of the Triangle height in cm: \"))\n",
    "\n",
    "area = (base*height)/2\n",
    "\n",
    "print(f\"The area of the triangle is {area} cm square.\")\n"
   ]
  },
  {
   "cell_type": "markdown",
   "id": "21152ff8",
   "metadata": {},
   "source": [
    "#### 4.\tWrite a Python program to swap two variables?"
   ]
  },
  {
   "cell_type": "code",
   "execution_count": 10,
   "id": "d65bb26c",
   "metadata": {},
   "outputs": [
    {
     "name": "stdout",
     "output_type": "stream",
     "text": [
      "The value of x is 6\n",
      "\n",
      "The value of y is 4\n"
     ]
    }
   ],
   "source": [
    "x = 4\n",
    "y = 6\n",
    "\n",
    "#we will now swap the values of these two variables\n",
    "\n",
    "#we will introduce a third variable z\n",
    "\n",
    "z = x\n",
    "x = y\n",
    "y = z\n",
    "\n",
    "print(\"The value of x is\",x)\n",
    "print()\n",
    "print(\"The value of y is\",y)\n"
   ]
  },
  {
   "cell_type": "markdown",
   "id": "be5d33e0",
   "metadata": {},
   "source": [
    "#### 5.\tWrite a Python program to generate a random number?"
   ]
  },
  {
   "cell_type": "code",
   "execution_count": 11,
   "id": "d9eb7d2e",
   "metadata": {},
   "outputs": [],
   "source": [
    "#for this we will import the random module\n",
    "\n",
    "import random"
   ]
  },
  {
   "cell_type": "code",
   "execution_count": 16,
   "id": "9019a264",
   "metadata": {
    "scrolled": true
   },
   "outputs": [
    {
     "name": "stdout",
     "output_type": "stream",
     "text": [
      "The random number genrated this time is 19\n"
     ]
    }
   ],
   "source": [
    "#from random we will import the randint method that will return a random integer from a given range\n",
    "\n",
    "random_num = random.randint(1,20)\n",
    "\n",
    "print(\"The random number genrated this time is\",random_num)"
   ]
  }
 ],
 "metadata": {
  "kernelspec": {
   "display_name": "Python 3",
   "language": "python",
   "name": "python3"
  },
  "language_info": {
   "codemirror_mode": {
    "name": "ipython",
    "version": 3
   },
   "file_extension": ".py",
   "mimetype": "text/x-python",
   "name": "python",
   "nbconvert_exporter": "python",
   "pygments_lexer": "ipython3",
   "version": "3.8.3"
  }
 },
 "nbformat": 4,
 "nbformat_minor": 5
}
