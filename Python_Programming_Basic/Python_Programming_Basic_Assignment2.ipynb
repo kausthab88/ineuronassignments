{
 "cells": [
  {
   "cell_type": "markdown",
   "id": "d96ce307",
   "metadata": {},
   "source": [
    "#### 1.\tWrite a Python program to convert kilometers to miles?"
   ]
  },
  {
   "cell_type": "code",
   "execution_count": 25,
   "id": "a371e5db",
   "metadata": {},
   "outputs": [],
   "source": [
    "def km_to_miles():\n",
    "    km = float(input(\"Enter the distance in kilometer: \")) #taking a float number as input for kilometers\n",
    "    mile = round((0.621371 * km),2) #1km is equal to 0.621371 miles, using the km variable which is in kilometers \n",
    "    #to convert to miles \n",
    "    return f\"The {km} kms in miles is {mile} miles\"\n",
    "    "
   ]
  },
  {
   "cell_type": "code",
   "execution_count": 26,
   "id": "8cbe397e",
   "metadata": {},
   "outputs": [
    {
     "name": "stdout",
     "output_type": "stream",
     "text": [
      "Enter the distance in kilometer: 45\n"
     ]
    },
    {
     "data": {
      "text/plain": [
       "'The 45.0 kms in miles is 27.96 miles'"
      ]
     },
     "execution_count": 26,
     "metadata": {},
     "output_type": "execute_result"
    }
   ],
   "source": [
    "km_to_miles()"
   ]
  },
  {
   "cell_type": "markdown",
   "id": "f798c49c",
   "metadata": {},
   "source": [
    "#### 2.\tWrite a Python program to convert Celsius to Fahrenheit?"
   ]
  },
  {
   "cell_type": "code",
   "execution_count": 35,
   "id": "241b268e",
   "metadata": {},
   "outputs": [],
   "source": [
    "# formula to convert degree celsius to fahrenheit (0°C × 9/5) + 32 = 32°F\n",
    "\n",
    "def cel_to_f():\n",
    "    temp = float(input(\"Enter temperature in °C(Degree Celsius): \"))\n",
    "    fh = (temp * 9/5) + 32\n",
    "    return f\"{temp}°C in Fahrenheit is {fh}°F \""
   ]
  },
  {
   "cell_type": "code",
   "execution_count": 36,
   "id": "5ccbd970",
   "metadata": {},
   "outputs": [
    {
     "name": "stdout",
     "output_type": "stream",
     "text": [
      "Enter temperature in °C(Degree Celsius): 35.7\n"
     ]
    },
    {
     "data": {
      "text/plain": [
       "'35.7°C in Fahrenheit is 96.26°F '"
      ]
     },
     "execution_count": 36,
     "metadata": {},
     "output_type": "execute_result"
    }
   ],
   "source": [
    "cel_to_f()"
   ]
  },
  {
   "cell_type": "markdown",
   "id": "85b9e649",
   "metadata": {},
   "source": [
    "#### 3.\tWrite a Python program to display calendar?"
   ]
  },
  {
   "cell_type": "code",
   "execution_count": 55,
   "id": "f2e0e09c",
   "metadata": {},
   "outputs": [],
   "source": [
    "import calendar"
   ]
  },
  {
   "cell_type": "code",
   "execution_count": 75,
   "id": "e546f477",
   "metadata": {},
   "outputs": [],
   "source": [
    "def cal(yyyy):\n",
    "    \"\"\"Enter a year to get the entire calendar\"\"\"\n",
    "    global calendar\n",
    "    print(calendar.calendar(yyyy))"
   ]
  },
  {
   "cell_type": "code",
   "execution_count": 77,
   "id": "48bb83dc",
   "metadata": {},
   "outputs": [
    {
     "name": "stdout",
     "output_type": "stream",
     "text": [
      "                                  1986\n",
      "\n",
      "      January                   February                   March\n",
      "Mo Tu We Th Fr Sa Su      Mo Tu We Th Fr Sa Su      Mo Tu We Th Fr Sa Su\n",
      "       1  2  3  4  5                      1  2                      1  2\n",
      " 6  7  8  9 10 11 12       3  4  5  6  7  8  9       3  4  5  6  7  8  9\n",
      "13 14 15 16 17 18 19      10 11 12 13 14 15 16      10 11 12 13 14 15 16\n",
      "20 21 22 23 24 25 26      17 18 19 20 21 22 23      17 18 19 20 21 22 23\n",
      "27 28 29 30 31            24 25 26 27 28            24 25 26 27 28 29 30\n",
      "                                                    31\n",
      "\n",
      "       April                      May                       June\n",
      "Mo Tu We Th Fr Sa Su      Mo Tu We Th Fr Sa Su      Mo Tu We Th Fr Sa Su\n",
      "    1  2  3  4  5  6                1  2  3  4                         1\n",
      " 7  8  9 10 11 12 13       5  6  7  8  9 10 11       2  3  4  5  6  7  8\n",
      "14 15 16 17 18 19 20      12 13 14 15 16 17 18       9 10 11 12 13 14 15\n",
      "21 22 23 24 25 26 27      19 20 21 22 23 24 25      16 17 18 19 20 21 22\n",
      "28 29 30                  26 27 28 29 30 31         23 24 25 26 27 28 29\n",
      "                                                    30\n",
      "\n",
      "        July                     August                  September\n",
      "Mo Tu We Th Fr Sa Su      Mo Tu We Th Fr Sa Su      Mo Tu We Th Fr Sa Su\n",
      "    1  2  3  4  5  6                   1  2  3       1  2  3  4  5  6  7\n",
      " 7  8  9 10 11 12 13       4  5  6  7  8  9 10       8  9 10 11 12 13 14\n",
      "14 15 16 17 18 19 20      11 12 13 14 15 16 17      15 16 17 18 19 20 21\n",
      "21 22 23 24 25 26 27      18 19 20 21 22 23 24      22 23 24 25 26 27 28\n",
      "28 29 30 31               25 26 27 28 29 30 31      29 30\n",
      "\n",
      "      October                   November                  December\n",
      "Mo Tu We Th Fr Sa Su      Mo Tu We Th Fr Sa Su      Mo Tu We Th Fr Sa Su\n",
      "       1  2  3  4  5                      1  2       1  2  3  4  5  6  7\n",
      " 6  7  8  9 10 11 12       3  4  5  6  7  8  9       8  9 10 11 12 13 14\n",
      "13 14 15 16 17 18 19      10 11 12 13 14 15 16      15 16 17 18 19 20 21\n",
      "20 21 22 23 24 25 26      17 18 19 20 21 22 23      22 23 24 25 26 27 28\n",
      "27 28 29 30 31            24 25 26 27 28 29 30      29 30 31\n",
      "\n"
     ]
    }
   ],
   "source": [
    "cal(1986)"
   ]
  },
  {
   "cell_type": "markdown",
   "id": "88c23889",
   "metadata": {},
   "source": [
    "#### 4.\tWrite a Python program to solve quadratic equation?"
   ]
  },
  {
   "cell_type": "code",
   "execution_count": 52,
   "id": "520fbd29",
   "metadata": {},
   "outputs": [],
   "source": [
    "#we solve a quadratic equation by the formula : x = (-b+(sq.root(b**2-4a*c)))/2*a & (-b-(sq.root(b**2-4a*c)))/2*a\n",
    "#d is discriminant and is equal to (b**2 - 4*a*c)\n",
    "\n",
    "def solve_quad(a,b,c):\n",
    "\n",
    "    \n",
    "    print(\"The quadratic equation we are solving is\",a,\"x**2 +\",b,\"x +\",c)\n",
    "    \n",
    "    d = (b**2-4*a*c)\n",
    "    \n",
    "    qe1 = (-b+(d)**0.5)/(2*a)\n",
    "    \n",
    "    qe2 = (-b-(d)**0.5)/(2*a)\n",
    "    \n",
    "    return f\"When we solve for x we get {qe1} & {qe2}\"\n",
    "    "
   ]
  },
  {
   "cell_type": "code",
   "execution_count": 54,
   "id": "f55d6541",
   "metadata": {},
   "outputs": [
    {
     "name": "stdout",
     "output_type": "stream",
     "text": [
      "The quadratic equation we are solving is 3.5 x**2 + 5.1 x + 6\n"
     ]
    },
    {
     "data": {
      "text/plain": [
       "'When we solve for x we get (-0.7285714285714284+1.087873792199767j) & (-0.7285714285714286-1.087873792199767j)'"
      ]
     },
     "execution_count": 54,
     "metadata": {},
     "output_type": "execute_result"
    }
   ],
   "source": [
    "solve_quad(3.5,5.1,6)"
   ]
  },
  {
   "cell_type": "markdown",
   "id": "5890e9ad",
   "metadata": {},
   "source": [
    "#### 5.\tWrite a Python program to swap two variables without temp variable?"
   ]
  },
  {
   "cell_type": "code",
   "execution_count": 92,
   "id": "ba74d2a4",
   "metadata": {},
   "outputs": [
    {
     "data": {
      "text/plain": [
       "13"
      ]
     },
     "execution_count": 92,
     "metadata": {},
     "output_type": "execute_result"
    }
   ],
   "source": [
    "a = 8\n",
    "b = 5\n",
    "\n",
    "a = a+b\n",
    "a"
   ]
  },
  {
   "cell_type": "code",
   "execution_count": 93,
   "id": "d53d3fff",
   "metadata": {},
   "outputs": [
    {
     "data": {
      "text/plain": [
       "8"
      ]
     },
     "execution_count": 93,
     "metadata": {},
     "output_type": "execute_result"
    }
   ],
   "source": [
    "b = a-b\n",
    "b"
   ]
  },
  {
   "cell_type": "code",
   "execution_count": 94,
   "id": "f75e2202",
   "metadata": {},
   "outputs": [
    {
     "data": {
      "text/plain": [
       "5"
      ]
     },
     "execution_count": 94,
     "metadata": {},
     "output_type": "execute_result"
    }
   ],
   "source": [
    "a = a-b\n",
    "a"
   ]
  },
  {
   "cell_type": "code",
   "execution_count": 95,
   "id": "69a0a4ff",
   "metadata": {},
   "outputs": [
    {
     "name": "stdout",
     "output_type": "stream",
     "text": [
      "5\n",
      "8\n"
     ]
    }
   ],
   "source": [
    "print(a)\n",
    "print(b)"
   ]
  },
  {
   "cell_type": "code",
   "execution_count": 98,
   "id": "f730ef18",
   "metadata": {},
   "outputs": [],
   "source": [
    "def num_swap(a,b):\n",
    "    a = a+b #adding the two numbers and storing the sum in the first variable\n",
    "    b = a-b #subtracting the second variable from the sum variable, which will give us the first variable and storing\n",
    "    #it in the second variable\n",
    "    a = a-b # finally subtracting the new value of the second variable from the sum variable and assigning it to the \n",
    "    #initial variable\n",
    "    \n",
    "    return f\"a:{a},b:{b}\""
   ]
  },
  {
   "cell_type": "code",
   "execution_count": 99,
   "id": "fc4383c0",
   "metadata": {
    "scrolled": true
   },
   "outputs": [
    {
     "data": {
      "text/plain": [
       "'a:45,b:34'"
      ]
     },
     "execution_count": 99,
     "metadata": {},
     "output_type": "execute_result"
    }
   ],
   "source": [
    "num_swap(34,45)"
   ]
  }
 ],
 "metadata": {
  "kernelspec": {
   "display_name": "Python 3",
   "language": "python",
   "name": "python3"
  },
  "language_info": {
   "codemirror_mode": {
    "name": "ipython",
    "version": 3
   },
   "file_extension": ".py",
   "mimetype": "text/x-python",
   "name": "python",
   "nbconvert_exporter": "python",
   "pygments_lexer": "ipython3",
   "version": "3.8.3"
  }
 },
 "nbformat": 4,
 "nbformat_minor": 5
}
