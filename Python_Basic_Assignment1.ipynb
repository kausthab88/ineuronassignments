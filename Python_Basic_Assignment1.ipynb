{
 "cells": [
  {
   "cell_type": "markdown",
   "id": "b46e342d",
   "metadata": {},
   "source": [
    "#### 1. In the below elements which of them are values or an expression? eg:- values can be integer or string and expressions will be mathematical operators.\n",
    "* \n",
    "'hello'\n",
    "-87.8\n",
    "- \n",
    "/ \n",
    "+\t\n",
    "6 \n",
    "\n",
    "###### Answer\n",
    "\n",
    "\"*\" - multiplication operator\n",
    "\n",
    "'hello' - this is a string\n",
    "\n",
    "-87.8 - This is a float value\n",
    "\n",
    "\"-\" : this is a subtraction operator\n",
    "\n",
    "\"+\" : This is an addition operator\n",
    "\n",
    "6 : This is an integer value"
   ]
  },
  {
   "cell_type": "markdown",
   "id": "1d69bc0c",
   "metadata": {},
   "source": [
    "#### 2. What is the difference between string and variable?\n",
    "\n",
    "##### Answer\n",
    "\n",
    "A string is a data type and is a collection of characters arranged in a sequence which is represented by \"\"(double quotes) or ''(single quotes) or even by \"\"\"(Triple Quotes). For example, \"Indore\", 'dog',\"44\", \"\"\"this is a test statement\"\"\" - are example of strings\n",
    "\n",
    "A variable in python is a container that stores any data types(int,float,string or boolean) in python in an assigned memory location. Like the name suggests, a variable can vary. if I declare a variable k = 10 next I can assign a different value or a different data type altogether to \"k\" for example k = 'eifel tower' \n"
   ]
  },
  {
   "cell_type": "markdown",
   "id": "03b2509d",
   "metadata": {},
   "source": [
    "#### 3. Describe three different data types.\n",
    "\n",
    "##### Answer\n",
    "\n",
    "Three different data types are:\n",
    "\n",
    "\n",
    "    1. Integer or int - this data type describes only integers. E.g 1,2,100,650 etc\n",
    "    2. Float - this data type contains numbers with fractions and are represented by decimals. E.g 2.5,-7.9 etc \n",
    "    3. Boolean - contains only boolean expressions. True or False."
   ]
  },
  {
   "cell_type": "markdown",
   "id": "6291be96",
   "metadata": {},
   "source": [
    "#### 4. What is an expression made up of? What do all expressions do?\n",
    "\n",
    "##### Answer\n",
    "\n",
    "Expressions are representation of a value. Expressions do not do anything, they are just a representation.An expression is made up of numbers or stringsor operators or call to functions."
   ]
  },
  {
   "cell_type": "markdown",
   "id": "376c95dc",
   "metadata": {},
   "source": [
    "#### 5. This assignment statements, like spam = 10. What is the difference between an expression and a statement?\n",
    "\n",
    "##### Answer\n",
    "\n",
    "Referring to the example given, here 10 is an expression and when we assign it (here using the '=') to a variable (here 'spam'), it becomes a statement. 10 by itself is an expression. It cannot do anything on its own"
   ]
  },
  {
   "cell_type": "code",
   "execution_count": 1,
   "id": "31f7b4ac",
   "metadata": {},
   "outputs": [
    {
     "data": {
      "text/plain": [
       "23"
      ]
     },
     "execution_count": 1,
     "metadata": {},
     "output_type": "execute_result"
    }
   ],
   "source": [
    "bacon = 22\n",
    "bacon +1"
   ]
  },
  {
   "cell_type": "markdown",
   "id": "f6f1ba3f",
   "metadata": {},
   "source": [
    "#### 6. After running the following code, what does the variable bacon contain?\n",
    "bacon = 22\n",
    "\n",
    "\n",
    "bacon + 1\n",
    "\n",
    "##### Answer\n",
    "\n",
    "The bacon variable will assume the value 23 as we have added 1 to the value of the variable which is 22 and is of the type 'integer'"
   ]
  },
  {
   "cell_type": "code",
   "execution_count": 2,
   "id": "83d3bfc0",
   "metadata": {
    "scrolled": true
   },
   "outputs": [
    {
     "data": {
      "text/plain": [
       "'spamspamspam'"
      ]
     },
     "execution_count": 2,
     "metadata": {},
     "output_type": "execute_result"
    }
   ],
   "source": [
    "'spam' * 3"
   ]
  },
  {
   "cell_type": "code",
   "execution_count": 3,
   "id": "0580b89c",
   "metadata": {},
   "outputs": [
    {
     "data": {
      "text/plain": [
       "'spamspamspam'"
      ]
     },
     "execution_count": 3,
     "metadata": {},
     "output_type": "execute_result"
    }
   ],
   "source": [
    "'spam' + 'spamspam'\n"
   ]
  },
  {
   "cell_type": "markdown",
   "id": "3b63aa9e",
   "metadata": {},
   "source": [
    "#### 7. What should the values of the following two terms be?\n",
    "'spam' + 'spamspam'\n",
    "'spam' * 3\n",
    "\n",
    "##### Answer\n",
    "\n",
    "Both the executions will result in the output of 'spamspamspam'.\n",
    "\n",
    "The first one will follow string concatenation as 'spam' is a string and 'spamspam' is also a string. When we use '+' operator bewtween strings, the strings are just grouped together.\n",
    "\n",
    "In the second case, using a \"*\" on the string 'spam' outputs 'spamspamspam' as the * operator makes it repeat the string 3 times\n"
   ]
  },
  {
   "cell_type": "markdown",
   "id": "37e39d0a",
   "metadata": {},
   "source": [
    "#### 8. Why is eggs a valid variable name while 100 is invalid?\n",
    "\n",
    "##### Answer\n",
    "\n",
    "As per python documentation, a variable name can only start with a letter or the underscore character and should contain alphabets and/or numbers and/or underscore. Hence, 100 is not valid as a variable name and eggs will be accepted as a variable name"
   ]
  },
  {
   "cell_type": "markdown",
   "id": "7463526c",
   "metadata": {},
   "source": [
    "#### 9. What three functions can be used to get the integer, floating-point number, or string version of a value?\n",
    "\n",
    "##### Answer\n",
    "\n",
    "The int(), float() and str() functions are used to get the integer,floating-point number and string version of a value"
   ]
  },
  {
   "cell_type": "markdown",
   "id": "dfa5a8b9",
   "metadata": {},
   "source": [
    "#### 10. Why does this expression cause an error? How can you fix it?\n",
    "\n",
    "\n",
    "'I have eaten ' + 99 + ' burritos.'\n",
    "\n",
    "##### Answer\n",
    "\n",
    "Here we are trying to add a string and a integer and string. In Python, we canno add a string to an integer. In order to add them we have to convert the integer to a string and then concatenate it. It is shown below:\n"
   ]
  },
  {
   "cell_type": "code",
   "execution_count": 8,
   "id": "24134970",
   "metadata": {},
   "outputs": [
    {
     "data": {
      "text/plain": [
       "'I have eaten 99 burritos.'"
      ]
     },
     "execution_count": 8,
     "metadata": {},
     "output_type": "execute_result"
    }
   ],
   "source": [
    "'I have eaten ' + str(99) + ' burritos.'"
   ]
  }
 ],
 "metadata": {
  "kernelspec": {
   "display_name": "Python 3",
   "language": "python",
   "name": "python3"
  },
  "language_info": {
   "codemirror_mode": {
    "name": "ipython",
    "version": 3
   },
   "file_extension": ".py",
   "mimetype": "text/x-python",
   "name": "python",
   "nbconvert_exporter": "python",
   "pygments_lexer": "ipython3",
   "version": "3.8.3"
  }
 },
 "nbformat": 4,
 "nbformat_minor": 5
}
