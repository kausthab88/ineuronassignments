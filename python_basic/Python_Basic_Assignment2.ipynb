{
 "cells": [
  {
   "cell_type": "markdown",
   "id": "094cf507",
   "metadata": {},
   "source": [
    "#### 1.What are the two values of the Boolean data type? How do you write them?\n",
    "\n",
    "##### Answer\n",
    "\n",
    "The two values of the Boolean data type are True and False. In python we write boolean expression by using the inbuilt function bool(). We write boolean when we want the output as either True or False. \n",
    "\n",
    "Boolean true and false is always written in the Title case. we cannot write them in small case as the compiler will then take it to be any other string. Boolean always evaluates the truth of an expression in terms of True or False"
   ]
  },
  {
   "cell_type": "markdown",
   "id": "681887c9",
   "metadata": {},
   "source": [
    "#### 2. What are the three different types of Boolean operators?\n",
    "\n",
    "##### Answer\n",
    "\n",
    "The three types of Boolean opeartors are AND, OR & NOT"
   ]
  },
  {
   "attachments": {
    "image-4.png": {
     "image/png": "[encoded data removed]"
    },
    "image-5.png": {
     "image/png": "[encoded data removed]"
    },
    "image.png": {
     "image/png": "[encoded data removed]"
    }
   },
   "cell_type": "markdown",
   "id": "0efa2dc5",
   "metadata": {},
   "source": [
    "#### 3. Make a list of each Boolean operator's truth tables (i.e. every possible combination of Boolean values for the operator and what it evaluate ).\n",
    "\n",
    "##### Answer\n",
    "\n",
    "We will start with AND operator:\n",
    "\n",
    "The AND operator says that, it will return true if both the conditions return true. Let us see this with the help of an example below:\n",
    "\n",
    "Condition X\tCondition Y\tX AND Y\n",
    "TRUE\tTRUE\tTRUE\n",
    "TRUE\tFALSE\tFALSE\n",
    "FALSE\tTRUE\tFALSE\n",
    "FALSE\tFALSE\tTRUE![image.png](attachment:image.png)\n",
    "\n",
    "Next we will see the OR Truth Table\n",
    "\n",
    "Condition X\tCondition Y\tX OR Y\n",
    "TRUE\tTRUE\tTRUE\n",
    "TRUE\tFALSE\tTRUE\n",
    "FALSE\tTRUE\tTRUE\n",
    "FALSE\tFALSE\tFALSE![image-4.png](attachment:image-4.png)\n",
    "\n",
    "The NOT operator on the other hand takes a single input and inverts  the output. The table below shows the truth table\n",
    "\n",
    "\n",
    "Condition X\tCondition Y\tNOT X\n",
    "TRUE\t0\tFALSE\n",
    "FALSE\t0\tTRUE![image-5.png](attachment:image-5.png)\n"
   ]
  },
  {
   "cell_type": "markdown",
   "id": "93992ed2",
   "metadata": {},
   "source": [
    "#### 4. What are the values of the following expressions?\n",
    "\n",
    "\n",
    "(5 > 4) and (3 == 5)\n",
    "\n",
    "\n",
    "not (5 > 4)\n",
    "\n",
    "\n",
    "(5 > 4) or (3 == 5)\n",
    "\n",
    "\n",
    "not ((5 > 4) or (3 == 5))\n",
    "\n",
    "\n",
    "(True and True) and (True == False)\n",
    "\n",
    "\n",
    "(not False) or (not True)\n",
    "\n",
    "##### Answer\n",
    "\n",
    "The answers in the same order are:\n",
    "\n",
    "False (since only one of the conditions is true and the other one is False)\n",
    "\n",
    "False (since NOT inverts the condition output. Here 5 is greater than 4 and is True but NOT inverts it)\n",
    "\n",
    "True (We use the OR Truth table here. First expression is True and second in False. Hence final will be True)\n",
    "\n",
    "False (Since the final output of ths OR condition is True but using NOT inverts it)\n",
    "\n",
    "False (Since the first expression is True but second is False and we have used AND operator here. True AND False will result in a False)\n",
    "\n",
    "True (The first condition return True and the second returns False but and since we are using OR here, the final output is True)"
   ]
  },
  {
   "cell_type": "markdown",
   "id": "33c2814d",
   "metadata": {},
   "source": [
    "#### 5. What are the six comparison operators?\n",
    "\n",
    "##### Answer\n",
    "\n",
    "The six comparison operators are:\n",
    "\n",
    "\"==\" : equates for equality of two expessions or numbers\n",
    "\n",
    "\"<\" : checks if an expression is smaller than the other\n",
    "\n",
    "\">\" : checks if an equation is greater than the other\n",
    "\n",
    "\"<=\" : Checks if an expression is less than or equal to the other expression\n",
    "\n",
    "\">=\" : checks if the expression on the left is greater than or equal to the expression on the right\n",
    "\n",
    "\"!=\" : checks the expressions for inequality"
   ]
  },
  {
   "cell_type": "markdown",
   "id": "cbd7f846",
   "metadata": {},
   "source": [
    "#### 6. How do you tell the difference between the equal to and assignment operators?Describe a condition and when you would use one.\n",
    "\n",
    "##### Answer\n",
    "\n",
    "The equal to operator is denoted by \"==\" and the asignment operator is represented by \"=\". Let us see the difference with an example:\n",
    "\n",
    "if we want to compare two expressions or number we will use the equal opeartor. For example if we want to compare 3 and 4 and see if they are equal we will write\n",
    "\n",
    "\"3 == 4\" and the resultant output will be a Boolean or False because we all know 3 is not equal in value to 4.\n",
    "\n",
    "Now if we want to assign the value 3 to a variable we use the \"=\" operator. This will help us in assigning the value 3 to a place holer or variable let's say \"j\". we will write this as\n",
    "\n",
    "\" j = 3\"\n",
    "\n",
    "Till the time we assign a new value to j, whenever we call \"j\", the output will be an integer 3"
   ]
  },
  {
   "cell_type": "markdown",
   "id": "a05bf4e7",
   "metadata": {},
   "source": [
    "#### 7. Identify the three blocks in this code:\n",
    "\n",
    "\n",
    "spam = 0\n",
    "\n",
    "if spam == 10:\n",
    "\n",
    "print('eggs')\n",
    "\n",
    "if spam > 5:\n",
    "\n",
    "print('bacon')\n",
    "\n",
    "else:\n",
    "\n",
    "print('ham')\n",
    "\n",
    "print('spam')\n",
    "\n",
    "print('spam')\n",
    "\n",
    "##### Answer\n",
    "\n",
    "The answer is shown below:\n",
    "\n"
   ]
  },
  {
   "cell_type": "code",
   "execution_count": 23,
   "id": "7e371670",
   "metadata": {},
   "outputs": [
    {
     "name": "stdout",
     "output_type": "stream",
     "text": [
      "eggs\n",
      "bacon\n",
      "spam\n",
      "spam\n"
     ]
    }
   ],
   "source": [
    "\n",
    "spam = 10\n",
    "#first block\n",
    "if spam == 10:\n",
    "    print('eggs')\n",
    "#second block\n",
    "if spam > 5:\n",
    "    print('bacon')\n",
    "#third block\n",
    "else:\n",
    "    print('ham')\n",
    "print('spam')\n",
    "print('spam')\n"
   ]
  },
  {
   "cell_type": "markdown",
   "id": "5f773f9c",
   "metadata": {},
   "source": [
    "#### 8. Write code that prints Hello if 1 is stored in spam, prints Howdy if 2 is stored in spam, and prints Greetings! if anything else is stored in spam."
   ]
  },
  {
   "cell_type": "code",
   "execution_count": 20,
   "id": "0aa922e4",
   "metadata": {},
   "outputs": [
    {
     "name": "stdout",
     "output_type": "stream",
     "text": [
      "Greetings\n"
     ]
    }
   ],
   "source": [
    "spam=4\n",
    "if spam == 1:\n",
    "    print(\"Hello\")\n",
    "elif spam == 2 :\n",
    "    print(\"Howdy\")\n",
    "else:\n",
    "    print(\"Greetings\")"
   ]
  },
  {
   "cell_type": "markdown",
   "id": "d1b680b9",
   "metadata": {},
   "source": [
    "#### 9.If your programme is stuck in an endless loop, what keys you’ll press?\n",
    "\n",
    "##### Answer\n",
    "\n",
    "we will use Ctrl + C"
   ]
  },
  {
   "cell_type": "markdown",
   "id": "e6a11f07",
   "metadata": {},
   "source": [
    "#### 10. How can you tell the difference between break and continue?\n",
    "\n",
    "##### Answer\n",
    "\n",
    "A \"break\" statement is used in python to discontinue or put a break on a while or for loop. Whenever a loop encounters a break statement in the loop, the loop ends then and there.\n",
    "\n",
    "But, a continue statement makes a while or a for loop skip a certain piece of code for certain iterations and after it skips, the code continues from where it left off. \n",
    "\n",
    "Let us see with examples:"
   ]
  },
  {
   "cell_type": "code",
   "execution_count": 24,
   "id": "73b9b0c2",
   "metadata": {},
   "outputs": [
    {
     "name": "stdout",
     "output_type": "stream",
     "text": [
      "this is a loop\n",
      "1\n",
      "this is a loop\n",
      "2\n",
      "this is a loop\n",
      "3\n",
      "this is a loop\n",
      "4\n"
     ]
    }
   ],
   "source": [
    "count = 0\n",
    "for x in range(1,8):\n",
    "    print(\"this is a loop\")\n",
    "    count = count+1\n",
    "    print(count)\n",
    "    if count == 4:\n",
    "        break"
   ]
  },
  {
   "cell_type": "markdown",
   "id": "c733f42b",
   "metadata": {},
   "source": [
    "Here we see that, in the for loop, when count reaches the value 4 we have asked the loop to break, which means it will stop once count is equal to 4. From the output also we see that once count is 4, the code ends."
   ]
  },
  {
   "cell_type": "code",
   "execution_count": 33,
   "id": "842f2820",
   "metadata": {},
   "outputs": [
    {
     "name": "stdout",
     "output_type": "stream",
     "text": [
      "value of x is 1\n",
      "count is 1\n",
      "value of x is 2\n",
      "count is 2\n",
      "value of x is 3\n",
      "count is 3\n",
      "value of x is 4\n",
      "value of x is 5\n",
      "count is 5\n",
      "value of x is 6\n",
      "count is 6\n",
      "value of x is 7\n",
      "count is 7\n"
     ]
    }
   ],
   "source": [
    "count = 0\n",
    "for x in range (1,8):\n",
    "    print(\"value of x is\", x)\n",
    "    count = count+1\n",
    "    if count == 4:\n",
    "        continue\n",
    "    print(\"count is\",count)\n"
   ]
  },
  {
   "cell_type": "markdown",
   "id": "afa52d2f",
   "metadata": {},
   "source": [
    "In the above example, we see that, once we apply continue for the if clause where countis equal to 4, it only skips the next part of code for count ==4 and doesn't print the statement for count 4. After that it continues with the code normally."
   ]
  },
  {
   "cell_type": "markdown",
   "id": "2a928c8c",
   "metadata": {},
   "source": [
    "#### 11. In a for loop, what is the difference between range(10), range(0, 10), and range(0, 10, 1)?\n",
    "\n",
    "##### Answer\n",
    "\n",
    "There is no difference as such. These are just different ways of writing the range function. The range function take the following arguments:\n",
    "\n",
    "start,stop and step.\n",
    "\n",
    "By default the start value is 0 and step is 1. Let us see with example"
   ]
  },
  {
   "cell_type": "code",
   "execution_count": 34,
   "id": "6f0cf875",
   "metadata": {},
   "outputs": [
    {
     "name": "stdout",
     "output_type": "stream",
     "text": [
      "0\n",
      "1\n",
      "2\n",
      "3\n",
      "4\n",
      "5\n",
      "6\n",
      "7\n",
      "8\n",
      "9\n"
     ]
    }
   ],
   "source": [
    "for x in range(10):\n",
    "    print(x)"
   ]
  },
  {
   "cell_type": "code",
   "execution_count": 35,
   "id": "c7cef8db",
   "metadata": {},
   "outputs": [
    {
     "name": "stdout",
     "output_type": "stream",
     "text": [
      "0\n",
      "1\n",
      "2\n",
      "3\n",
      "4\n",
      "5\n",
      "6\n",
      "7\n",
      "8\n",
      "9\n"
     ]
    }
   ],
   "source": [
    "for x in range(0,10):\n",
    "    print(x)"
   ]
  },
  {
   "cell_type": "code",
   "execution_count": 36,
   "id": "58276c51",
   "metadata": {},
   "outputs": [
    {
     "name": "stdout",
     "output_type": "stream",
     "text": [
      "0\n",
      "1\n",
      "2\n",
      "3\n",
      "4\n",
      "5\n",
      "6\n",
      "7\n",
      "8\n",
      "9\n"
     ]
    }
   ],
   "source": [
    "for x in range(0,10,1):\n",
    "    print(x)"
   ]
  },
  {
   "cell_type": "markdown",
   "id": "c4a9ae9e",
   "metadata": {},
   "source": [
    "#### 12. Write a short program that prints the numbers 1 to 10 using a for loop. Then write an equivalent program that prints the numbers 1 to 10 using a while loop.\n",
    "\n",
    "##### Answer"
   ]
  },
  {
   "cell_type": "code",
   "execution_count": 37,
   "id": "2a3ed58d",
   "metadata": {},
   "outputs": [
    {
     "name": "stdout",
     "output_type": "stream",
     "text": [
      "1\n",
      "2\n",
      "3\n",
      "4\n",
      "5\n",
      "6\n",
      "7\n",
      "8\n",
      "9\n",
      "10\n"
     ]
    }
   ],
   "source": [
    "#Using For Loop:\n",
    "\n",
    "for x in range(1,11):\n",
    "    print(x)"
   ]
  },
  {
   "cell_type": "code",
   "execution_count": 40,
   "id": "4a2e183e",
   "metadata": {},
   "outputs": [
    {
     "name": "stdout",
     "output_type": "stream",
     "text": [
      "1\n",
      "2\n",
      "3\n",
      "4\n",
      "5\n",
      "6\n",
      "7\n",
      "8\n",
      "9\n",
      "10\n"
     ]
    }
   ],
   "source": [
    "x =0\n",
    "while x < 10:\n",
    "    x = x+1\n",
    "    print(x)"
   ]
  },
  {
   "cell_type": "markdown",
   "id": "fcef44f2",
   "metadata": {},
   "source": [
    "#### 13. If you had a function named bacon() inside a module named spam, how would you call it after importing spam?\n",
    "\n",
    "##### Answer\n",
    "\n",
    "We will use \"spam.bacon()\""
   ]
  }
 ],
 "metadata": {
  "kernelspec": {
   "display_name": "Python 3",
   "language": "python",
   "name": "python3"
  },
  "language_info": {
   "codemirror_mode": {
    "name": "ipython",
    "version": 3
   },
   "file_extension": ".py",
   "mimetype": "text/x-python",
   "name": "python",
   "nbconvert_exporter": "python",
   "pygments_lexer": "ipython3",
   "version": "3.8.3"
  }
 },
 "nbformat": 4,
 "nbformat_minor": 5
}
