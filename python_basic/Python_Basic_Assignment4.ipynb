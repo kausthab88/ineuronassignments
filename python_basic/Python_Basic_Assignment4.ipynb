{
 "cells": [
  {
   "cell_type": "markdown",
   "id": "7cdb93d3",
   "metadata": {},
   "source": [
    "#### What exactly is []?\n",
    "\n",
    "##### Answer\n",
    "\n",
    "In python a \"List\" is defined within \"[]\". We can enter any data inside these square brackets and they will be considered as elements of a list. For Example:\n",
    "\n",
    "a = [\"test\",34,88.5,True]"
   ]
  },
  {
   "cell_type": "markdown",
   "id": "e6627f8a",
   "metadata": {},
   "source": [
    "#### 2. In a list of values stored in a variable called spam, how would you assign the value 'hello' as the third value? (Assume [2, 4, 6, 8, 10] are in spam.)\n",
    "\n",
    "##### Answer\n",
    "\n",
    "To add any element to a specific index position in a list, we will use the \"insert\" function. So, to add 'hello' to as the 3rd value we have to add to the index number 2. The code is shown below:"
   ]
  },
  {
   "cell_type": "code",
   "execution_count": 1,
   "id": "27043011",
   "metadata": {},
   "outputs": [],
   "source": [
    "spam = [2, 4, 6, 8, 10]\n",
    "spam.insert(2,'hello')"
   ]
  },
  {
   "cell_type": "code",
   "execution_count": 2,
   "id": "1af2e30d",
   "metadata": {},
   "outputs": [
    {
     "data": {
      "text/plain": [
       "[2, 4, 'hello', 6, 8, 10]"
      ]
     },
     "execution_count": 2,
     "metadata": {},
     "output_type": "execute_result"
    }
   ],
   "source": [
    "spam"
   ]
  },
  {
   "cell_type": "markdown",
   "id": "e309989f",
   "metadata": {},
   "source": [
    "'hello' hs been added as the 3rd value"
   ]
  },
  {
   "cell_type": "markdown",
   "id": "1d899add",
   "metadata": {},
   "source": [
    "#### Let's pretend the spam includes the list ['a', 'b', 'c', 'd'] for the next three queries.\n",
    "\n",
    "#### 3. What is the value of spam[int(int('3' * 2) / 11)]?\n",
    "\n",
    "##### Answer"
   ]
  },
  {
   "cell_type": "code",
   "execution_count": 3,
   "id": "23590c0b",
   "metadata": {},
   "outputs": [
    {
     "data": {
      "text/plain": [
       "'d'"
      ]
     },
     "execution_count": 3,
     "metadata": {},
     "output_type": "execute_result"
    }
   ],
   "source": [
    "spam = ['a', 'b', 'c', 'd']\n",
    "spam[int(int('3' * 2) / 11)]"
   ]
  },
  {
   "cell_type": "markdown",
   "id": "9fa2f1a2",
   "metadata": {},
   "source": [
    "The answer will be 'd'. Here is the explanation:\n",
    "\n",
    "The code block \"spam[int(int('3' * 2) / 11)]\" will first execute ('3'*2) and since '3' is a string mltiplying a string with 2 will only repeat the string two times hence we get '33'. Then the int('33') will be executed which is nothing but typecasting the string to an integer. So now string(33) becomes a number 33 and next it is divided by 11 which gives an output of 3.0 which is a 'float'. Thus the next 'int' will convert the float to an integer again. So, in the end we are left with spam[3] which is equal to 'd' in the spam list."
   ]
  },
  {
   "cell_type": "markdown",
   "id": "21ef55a3",
   "metadata": {},
   "source": [
    "#### What is the value of spam[-1]?\n",
    "\n",
    "##### Answer\n",
    "\n",
    "The answer is 'd'. We know that, in pyhton index positions from left to right starts from 0,1,2,3 and so on. However, when we want to traverse a list from right to left, the last element of the list(when going from left to right) or the first element(when traversing from right to left) is denoted by -1. The list then traverses like -1,-2,-3 and so on. Here, 'd' is the last element in the list. Hence, spam[-1] gives us 'd'.\n"
   ]
  },
  {
   "cell_type": "markdown",
   "id": "0bbc047a",
   "metadata": {},
   "source": [
    "#### 5. What is the value of spam[:2]?\n",
    "\n",
    "##### Answer"
   ]
  },
  {
   "cell_type": "code",
   "execution_count": 14,
   "id": "ed98a0b2",
   "metadata": {},
   "outputs": [
    {
     "data": {
      "text/plain": [
       "['a', 'b']"
      ]
     },
     "execution_count": 14,
     "metadata": {},
     "output_type": "execute_result"
    }
   ],
   "source": [
    "spam[:2]"
   ]
  },
  {
   "cell_type": "markdown",
   "id": "78537ea3",
   "metadata": {},
   "source": [
    "In python, list elements can be accessed by specifying the index positions. The index positions are specified inside []. The first value is the index start position and the second is the index stop positon excluding that position. Which means, whatever value is given in the stop position we have to sbtract 1 from it. If no value is given at the start position like in this case, by default index position 0 is assumed and if the stop posiition is left blank it means, it will go to the end of the list. In our case, since the start position is not there, we will start with index position 0 and stop positiion (2-1) which is 1. Thus giving us \"a\" which is in the index position 0 and \"b\" which is in the index position 1."
   ]
  },
  {
   "cell_type": "markdown",
   "id": "90ab1386",
   "metadata": {},
   "source": [
    "#### Let's pretend bacon has the list [3.14, 'cat,' 11, 'cat,' True] for the next three questions.\n",
    "\n",
    "#### 6. What is the value of bacon.index('cat')?\n",
    "\n",
    "##### Answer\n",
    "\n",
    "The value of bacon.index('cat') will be 1 as shown below. The index method returns the first index position of any element in a list. Although, in this list, there are 2 'cat' elements, only the first is returned which is present in the index position 1\n"
   ]
  },
  {
   "cell_type": "code",
   "execution_count": 17,
   "id": "6c8cde34",
   "metadata": {},
   "outputs": [
    {
     "data": {
      "text/plain": [
       "1"
      ]
     },
     "execution_count": 17,
     "metadata": {},
     "output_type": "execute_result"
    }
   ],
   "source": [
    "bacon = [3.14, 'cat','11', 'cat', True]\n",
    "bacon.index('cat')"
   ]
  },
  {
   "cell_type": "markdown",
   "id": "4218b390",
   "metadata": {},
   "source": [
    "#### 7. How does bacon.append(99) change the look of the list value in bacon?\n",
    "\n",
    "##### Answer\n",
    "\n",
    ".append() is a built in function available to lists. It adds an elements to the tail of any list. In this case, the integer 99 will be added to the end of the list i.e it will be added after the boolean value 'True'. Thus making 99 the new 'last element' of the list bacon."
   ]
  },
  {
   "cell_type": "code",
   "execution_count": 21,
   "id": "7743b094",
   "metadata": {},
   "outputs": [
    {
     "data": {
      "text/plain": [
       "[3.14, 'cat', '11', 'cat', True]"
      ]
     },
     "execution_count": 21,
     "metadata": {},
     "output_type": "execute_result"
    }
   ],
   "source": [
    "bacon"
   ]
  },
  {
   "cell_type": "code",
   "execution_count": 22,
   "id": "0c1f844f",
   "metadata": {},
   "outputs": [],
   "source": [
    "bacon.append(99)"
   ]
  },
  {
   "cell_type": "code",
   "execution_count": 23,
   "id": "8a439bd3",
   "metadata": {},
   "outputs": [
    {
     "data": {
      "text/plain": [
       "[3.14, 'cat', '11', 'cat', True, 99]"
      ]
     },
     "execution_count": 23,
     "metadata": {},
     "output_type": "execute_result"
    }
   ],
   "source": [
    "bacon"
   ]
  },
  {
   "cell_type": "markdown",
   "id": "e4e85374",
   "metadata": {},
   "source": [
    "#### 8. How does bacon.remove('cat') change the look of the list in bacon?\n",
    "\n",
    "##### Answer\n",
    "\n",
    "The inbuilt function .remove() in lists, removes an entry from the list based on it's value. However, it should be kept in mind that if more than one entry of the \"same\" value is present in the list, remove will take out only the first occurence and not the others. In this case, only the first occurence of 'cat' in index position 1 will re removed from the list. One more important property is that this is removes an element permanently from a list."
   ]
  },
  {
   "cell_type": "code",
   "execution_count": 24,
   "id": "7a4a0cea",
   "metadata": {},
   "outputs": [],
   "source": [
    "bacon.remove('cat')"
   ]
  },
  {
   "cell_type": "code",
   "execution_count": 25,
   "id": "d6394724",
   "metadata": {},
   "outputs": [
    {
     "data": {
      "text/plain": [
       "[3.14, '11', 'cat', True, 99]"
      ]
     },
     "execution_count": 25,
     "metadata": {},
     "output_type": "execute_result"
    }
   ],
   "source": [
    "bacon"
   ]
  },
  {
   "cell_type": "markdown",
   "id": "62bf776c",
   "metadata": {},
   "source": [
    "#### 9. What are the list concatenation and list replication operators?\n",
    "\n",
    "##### Answer\n",
    "\n",
    "List Concatenation operator is \"+\". Let's see an example below:"
   ]
  },
  {
   "cell_type": "code",
   "execution_count": 26,
   "id": "f85bb75b",
   "metadata": {},
   "outputs": [
    {
     "data": {
      "text/plain": [
       "[1, 2, 3, 4, 'a', 'b', 'c', 'd']"
      ]
     },
     "execution_count": 26,
     "metadata": {},
     "output_type": "execute_result"
    }
   ],
   "source": [
    "#let us create two lists\n",
    "\n",
    "l1 = [1,2,3,4]\n",
    "l2 = ['a','b','c','d']\n",
    "\n",
    "#We use '+' to concat lists\n",
    "\n",
    "l1+l2"
   ]
  },
  {
   "cell_type": "markdown",
   "id": "359b7e82",
   "metadata": {},
   "source": [
    "To replicate a list, we use '*'. Let us see how:"
   ]
  },
  {
   "cell_type": "code",
   "execution_count": 27,
   "id": "9e1afd71",
   "metadata": {},
   "outputs": [
    {
     "data": {
      "text/plain": [
       "[1, 2, 3, 4, 1, 2, 3, 4]"
      ]
     },
     "execution_count": 27,
     "metadata": {},
     "output_type": "execute_result"
    }
   ],
   "source": [
    "#we will use list l1. If we want to replicate the list twice we do the following\n",
    "\n",
    "l1 * 2"
   ]
  },
  {
   "cell_type": "markdown",
   "id": "1eb4134a",
   "metadata": {},
   "source": [
    "Notice, how the list is just repeated twice. This is how we replicate a list."
   ]
  },
  {
   "cell_type": "markdown",
   "id": "46bea276",
   "metadata": {},
   "source": [
    "#### 10. What is difference between the list methods append() and insert()?\n",
    "\n",
    "##### Answer\n",
    "\n",
    "The list method append() adds an element to the tail of any list. It adds element/s to the very end of a list, thus letting it assume the last index positon. Let us take the l1 from the previous question. Let's see what append does"
   ]
  },
  {
   "cell_type": "code",
   "execution_count": 28,
   "id": "141a384b",
   "metadata": {},
   "outputs": [
    {
     "data": {
      "text/plain": [
       "[1, 2, 3, 4, 'test']"
      ]
     },
     "execution_count": 28,
     "metadata": {},
     "output_type": "execute_result"
    }
   ],
   "source": [
    "l1.append('test')\n",
    "l1"
   ]
  },
  {
   "cell_type": "markdown",
   "id": "613a1493",
   "metadata": {},
   "source": [
    "Observe how the new string element 'test' is added to the end of the list. Now if we add another element, \"test\" will no longer be the last element."
   ]
  },
  {
   "cell_type": "code",
   "execution_count": 29,
   "id": "5b38579d",
   "metadata": {},
   "outputs": [
    {
     "data": {
      "text/plain": [
       "[1, 2, 3, 4, 'test', 200]"
      ]
     },
     "execution_count": 29,
     "metadata": {},
     "output_type": "execute_result"
    }
   ],
   "source": [
    "l1.append(200)\n",
    "l1"
   ]
  },
  {
   "cell_type": "markdown",
   "id": "1e629b5c",
   "metadata": {},
   "source": [
    "The insert() method allows us to add elements to a list in specific index positions. Let's say we want to add 'ineuron' after the element 4. So the new element will have to be added after the index position 3. We will then add 'ineuron' at the index position 4. Let's see how:"
   ]
  },
  {
   "cell_type": "code",
   "execution_count": 30,
   "id": "5a834326",
   "metadata": {},
   "outputs": [
    {
     "data": {
      "text/plain": [
       "[1, 2, 3, 4, 'ineuron', 'test', 200]"
      ]
     },
     "execution_count": 30,
     "metadata": {},
     "output_type": "execute_result"
    }
   ],
   "source": [
    "l1.insert(4,'ineuron')\n",
    "l1"
   ]
  },
  {
   "cell_type": "markdown",
   "id": "4a3830a3",
   "metadata": {},
   "source": [
    "Once we insert any element to a list, the elements to the right to this element are shifted by one positive index position."
   ]
  },
  {
   "cell_type": "markdown",
   "id": "ea8d6d43",
   "metadata": {},
   "source": [
    "#### 11. What are the two methods for removing items from a list?\n",
    "\n",
    "##### Answer\n",
    "\n",
    "The two methods for removing items from a list are :\n",
    "\n",
    "remove: To remove elements by value by value of the element we use remove. Example is shown above.\n",
    "\n",
    "pop: pop is used to remove elements from the end of a list (default) or from any given index position. Let us look at an example below:"
   ]
  },
  {
   "cell_type": "code",
   "execution_count": 32,
   "id": "5817615b",
   "metadata": {},
   "outputs": [
    {
     "data": {
      "text/plain": [
       "[1, 2, 3, 4, 'ineuron', 'test']"
      ]
     },
     "execution_count": 32,
     "metadata": {},
     "output_type": "execute_result"
    }
   ],
   "source": [
    "l1.pop()\n",
    "l1"
   ]
  },
  {
   "cell_type": "markdown",
   "id": "89bbef91",
   "metadata": {},
   "source": [
    "By default, pop removes the last element of a list. If we want to remove elements by index position we just have to provide the index postion as an argument to the method. For example we want to now take out 'ineuron' from the list:"
   ]
  },
  {
   "cell_type": "code",
   "execution_count": 33,
   "id": "072de625",
   "metadata": {},
   "outputs": [
    {
     "data": {
      "text/plain": [
       "[1, 2, 3, 4, 'test']"
      ]
     },
     "execution_count": 33,
     "metadata": {},
     "output_type": "execute_result"
    }
   ],
   "source": [
    "l1.pop(4)\n",
    "l1"
   ]
  },
  {
   "cell_type": "markdown",
   "id": "61ce57b9",
   "metadata": {},
   "source": [
    "#### 12. Describe how list values and string values are identical.\n",
    "\n",
    "##### Answer\n",
    "\n",
    "List values can be strings as well. However the primary similarity is that both list values and strings are iterable. Both list values and strings are ordered and follow a sequence."
   ]
  },
  {
   "cell_type": "markdown",
   "id": "c04d918c",
   "metadata": {},
   "source": [
    "#### 13. What's the difference between tuples and lists?\n",
    "\n",
    "##### Answer\n",
    "\n",
    "The primary difference between lists and tuples are that tuples are immutable whereas lists are mutable. Lists are represented by [] and tuples are repesented by ()."
   ]
  },
  {
   "cell_type": "markdown",
   "id": "7bc93071",
   "metadata": {},
   "source": [
    "#### 14. How do you type a tuple value that only contains the integer 42?\n",
    "\n",
    "##### Answer\n",
    "\n",
    "A tuple with a single element can be called by putting a comma after the tuple element to let the python compiler know that it is a tple or else it will recognise it as an integer or any other data type based on our input. Below is example given:"
   ]
  },
  {
   "cell_type": "code",
   "execution_count": 43,
   "id": "9c38737d",
   "metadata": {},
   "outputs": [],
   "source": [
    "t1 = (42)"
   ]
  },
  {
   "cell_type": "code",
   "execution_count": 44,
   "id": "48914d04",
   "metadata": {},
   "outputs": [
    {
     "data": {
      "text/plain": [
       "int"
      ]
     },
     "execution_count": 44,
     "metadata": {},
     "output_type": "execute_result"
    }
   ],
   "source": [
    "type(t1)"
   ]
  },
  {
   "cell_type": "code",
   "execution_count": 45,
   "id": "6e225533",
   "metadata": {},
   "outputs": [],
   "source": [
    "t1 = (42,)"
   ]
  },
  {
   "cell_type": "code",
   "execution_count": 46,
   "id": "8ae55dd3",
   "metadata": {},
   "outputs": [
    {
     "data": {
      "text/plain": [
       "tuple"
      ]
     },
     "execution_count": 46,
     "metadata": {},
     "output_type": "execute_result"
    }
   ],
   "source": [
    "type(t1)"
   ]
  },
  {
   "cell_type": "markdown",
   "id": "1bfea195",
   "metadata": {},
   "source": [
    "#### 15. How do you get a list value's tuple form? How do you get a tuple value's list form?\n",
    "\n",
    "##### Answer\n",
    "\n",
    "To get a list value of a tuple we need to pass the tuple through \"list()\". Let us see an example below:"
   ]
  },
  {
   "cell_type": "code",
   "execution_count": 47,
   "id": "f56eab8d",
   "metadata": {},
   "outputs": [
    {
     "data": {
      "text/plain": [
       "tuple"
      ]
     },
     "execution_count": 47,
     "metadata": {},
     "output_type": "execute_result"
    }
   ],
   "source": [
    "#we will define a tuple first\n",
    "\n",
    "t1 = (45,98,\"test\",\"string\")\n",
    "type(t1)"
   ]
  },
  {
   "cell_type": "code",
   "execution_count": 49,
   "id": "81132c24",
   "metadata": {},
   "outputs": [
    {
     "name": "stdout",
     "output_type": "stream",
     "text": [
      "[45, 98, 'test', 'string']\n",
      "<class 'list'>\n"
     ]
    }
   ],
   "source": [
    "#now we will convert the tuple to a list\n",
    "\n",
    "lst = list(t1)\n",
    "print(lst)\n",
    "print(type(lst))"
   ]
  },
  {
   "cell_type": "markdown",
   "id": "73fc4c01",
   "metadata": {},
   "source": [
    "Fro the above code snippet we see how a tuple can be converted to a list. Now, let us see how we can convert a list to a tuple. We just need to pass the list through \"tuple()\" method. Let us see how:"
   ]
  },
  {
   "cell_type": "code",
   "execution_count": 50,
   "id": "56232567",
   "metadata": {},
   "outputs": [
    {
     "data": {
      "text/plain": [
       "[45, 98, 'test', 'string']"
      ]
     },
     "execution_count": 50,
     "metadata": {},
     "output_type": "execute_result"
    }
   ],
   "source": [
    "#We already have the list \"lst\"\n",
    "\n",
    "lst"
   ]
  },
  {
   "cell_type": "code",
   "execution_count": 51,
   "id": "566fb9a6",
   "metadata": {},
   "outputs": [
    {
     "name": "stdout",
     "output_type": "stream",
     "text": [
      "(45, 98, 'test', 'string')\n",
      "<class 'tuple'>\n"
     ]
    }
   ],
   "source": [
    "t1 = tuple(lst)\n",
    "print(t1)\n",
    "print(type(t1))"
   ]
  },
  {
   "cell_type": "markdown",
   "id": "d9f6b33e",
   "metadata": {},
   "source": [
    "Here we see how we have successfully converted a list into a tuple"
   ]
  },
  {
   "cell_type": "markdown",
   "id": "c8f44b56",
   "metadata": {},
   "source": [
    "#### 16. Variables that \"contain\" list values are not necessarily lists themselves. Instead, what do they contain?\n",
    "\n",
    "##### Answer\n",
    "\n",
    "They are references to list values. Let us see this through an example here"
   ]
  },
  {
   "cell_type": "code",
   "execution_count": 52,
   "id": "e6c64bb2",
   "metadata": {},
   "outputs": [
    {
     "data": {
      "text/plain": [
       "[1, 2, 3, ['a', 'b']]"
      ]
     },
     "execution_count": 52,
     "metadata": {},
     "output_type": "execute_result"
    }
   ],
   "source": [
    "#we will create a list first\n",
    "\n",
    "l1 = [1,2,3,['a','b']]\n",
    "\n",
    "# Now let us create a new list\n",
    "\n",
    "l2 = l1\n",
    "\n",
    "l2"
   ]
  },
  {
   "cell_type": "markdown",
   "id": "1a7c4ef8",
   "metadata": {},
   "source": [
    "Here l2 is not a new list, but it is a reference to the values of the old list l1. Here l2 is a variable. If we see the id's f both l1 and l2 it will be the same which only means that  l2 is not a new object but a variable referencing to the original object"
   ]
  },
  {
   "cell_type": "code",
   "execution_count": 53,
   "id": "a9b46681",
   "metadata": {},
   "outputs": [
    {
     "name": "stdout",
     "output_type": "stream",
     "text": [
      "140568321075328\n",
      "140568321075328\n"
     ]
    }
   ],
   "source": [
    "print(id(l1))\n",
    "print(id(l2))"
   ]
  },
  {
   "cell_type": "markdown",
   "id": "0c956344",
   "metadata": {},
   "source": [
    "#### 17. How do you distinguish between copy.copy() and copy.deepcopy()?\n",
    "\n",
    "##### Answer\n",
    "\n",
    ".copy() is also know as 'shallow copy'. Let's say we use .copy() with a list, this creates a new memory location for the list that is copied. Let us see an example for better understanding:"
   ]
  },
  {
   "cell_type": "code",
   "execution_count": 56,
   "id": "630967e9",
   "metadata": {},
   "outputs": [],
   "source": [
    "#we will create a new list\n",
    "\n",
    "new_list = [1,2,3,4,5,6]"
   ]
  },
  {
   "cell_type": "code",
   "execution_count": 57,
   "id": "3c660b10",
   "metadata": {},
   "outputs": [
    {
     "data": {
      "text/plain": [
       "[1, 2, 3, 4, 5, 6]"
      ]
     },
     "execution_count": 57,
     "metadata": {},
     "output_type": "execute_result"
    }
   ],
   "source": [
    "#if we use .copy here\n",
    "\n",
    "still_new = new_list.copy()\n",
    "still_new"
   ]
  },
  {
   "cell_type": "markdown",
   "id": "b570ea47",
   "metadata": {},
   "source": [
    "Now, my new_list and still_new lists are a replica of each other. Now if we try and make a change in still_new, it will not reflect in new_list. Let us see "
   ]
  },
  {
   "cell_type": "code",
   "execution_count": 58,
   "id": "54c5ca61",
   "metadata": {},
   "outputs": [],
   "source": [
    "still_new[1] = 'test'"
   ]
  },
  {
   "cell_type": "code",
   "execution_count": 59,
   "id": "8204d050",
   "metadata": {},
   "outputs": [
    {
     "data": {
      "text/plain": [
       "([1, 'test', 3, 4, 5, 6], [1, 2, 3, 4, 5, 6])"
      ]
     },
     "execution_count": 59,
     "metadata": {},
     "output_type": "execute_result"
    }
   ],
   "source": [
    "still_new,new_list"
   ]
  },
  {
   "cell_type": "code",
   "execution_count": 60,
   "id": "bd426ed2",
   "metadata": {},
   "outputs": [],
   "source": [
    "still_new.append(80)"
   ]
  },
  {
   "cell_type": "code",
   "execution_count": 61,
   "id": "268536f7",
   "metadata": {},
   "outputs": [
    {
     "data": {
      "text/plain": [
       "([1, 'test', 3, 4, 5, 6, 80], [1, 2, 3, 4, 5, 6])"
      ]
     },
     "execution_count": 61,
     "metadata": {},
     "output_type": "execute_result"
    }
   ],
   "source": [
    "still_new,new_list"
   ]
  },
  {
   "cell_type": "markdown",
   "id": "0ae28207",
   "metadata": {},
   "source": [
    "This is due to the fact that both these lists are in different memory locations which is shown below"
   ]
  },
  {
   "cell_type": "code",
   "execution_count": 63,
   "id": "345a6e00",
   "metadata": {},
   "outputs": [
    {
     "name": "stdout",
     "output_type": "stream",
     "text": [
      "140568321179136\n",
      "140568321179456\n"
     ]
    }
   ],
   "source": [
    "print(id(new_list))\n",
    "print(id(still_new))"
   ]
  },
  {
   "cell_type": "markdown",
   "id": "41ace0d8",
   "metadata": {},
   "source": [
    "But, if we are using a nested list here, things change a bit. Let us see how"
   ]
  },
  {
   "cell_type": "code",
   "execution_count": 76,
   "id": "b9f89673",
   "metadata": {},
   "outputs": [],
   "source": [
    "l1 = [[1,2,3],[4,5,6]]\n",
    "l2 = l1.copy()"
   ]
  },
  {
   "cell_type": "code",
   "execution_count": 77,
   "id": "70f5b6bf",
   "metadata": {},
   "outputs": [
    {
     "data": {
      "text/plain": [
       "([[1, 2, 3], [4, 5, 6]], [[1, 2, 3], [4, 5, 6]])"
      ]
     },
     "execution_count": 77,
     "metadata": {},
     "output_type": "execute_result"
    }
   ],
   "source": [
    "l1,l2"
   ]
  },
  {
   "cell_type": "code",
   "execution_count": 78,
   "id": "20d71535",
   "metadata": {},
   "outputs": [],
   "source": [
    "l2[1][2] = \"changed\""
   ]
  },
  {
   "cell_type": "code",
   "execution_count": 79,
   "id": "9414dabf",
   "metadata": {},
   "outputs": [
    {
     "data": {
      "text/plain": [
       "[[1, 2, 3], [4, 5, 'changed']]"
      ]
     },
     "execution_count": 79,
     "metadata": {},
     "output_type": "execute_result"
    }
   ],
   "source": [
    "l2"
   ]
  },
  {
   "cell_type": "code",
   "execution_count": 80,
   "id": "2e953d99",
   "metadata": {},
   "outputs": [
    {
     "data": {
      "text/plain": [
       "[[1, 2, 3], [4, 5, 'changed']]"
      ]
     },
     "execution_count": 80,
     "metadata": {},
     "output_type": "execute_result"
    }
   ],
   "source": [
    "l1"
   ]
  },
  {
   "cell_type": "markdown",
   "id": "4b4ddb8a",
   "metadata": {},
   "source": [
    "In case of a nested list, such substitution takes effect because both the variables are referring to the same object inside the nested list."
   ]
  },
  {
   "cell_type": "code",
   "execution_count": 81,
   "id": "bee15df4",
   "metadata": {},
   "outputs": [],
   "source": [
    "l2.append([7,8,9])"
   ]
  },
  {
   "cell_type": "code",
   "execution_count": 82,
   "id": "dce08a2b",
   "metadata": {},
   "outputs": [
    {
     "data": {
      "text/plain": [
       "[[1, 2, 3], [4, 5, 'changed'], [7, 8, 9]]"
      ]
     },
     "execution_count": 82,
     "metadata": {},
     "output_type": "execute_result"
    }
   ],
   "source": [
    "l2"
   ]
  },
  {
   "cell_type": "code",
   "execution_count": 83,
   "id": "68de3e55",
   "metadata": {},
   "outputs": [
    {
     "data": {
      "text/plain": [
       "[[1, 2, 3], [4, 5, 'changed']]"
      ]
     },
     "execution_count": 83,
     "metadata": {},
     "output_type": "execute_result"
    }
   ],
   "source": [
    "l1"
   ]
  },
  {
   "cell_type": "markdown",
   "id": "f2ade6a7",
   "metadata": {},
   "source": [
    "But a stark difference is when we try to append to a nested list. It will not reflect in the other list. Thus in nested list changes happen in the 'object' level i.e objects inside a list inside a list, but changes does not happen in the item level. Here item is [7,8,9] which is a list inside a list. Nested list is a collection of items."
   ]
  },
  {
   "cell_type": "markdown",
   "id": "bd0bd356",
   "metadata": {},
   "source": [
    "Now if we see deepcopy"
   ]
  },
  {
   "cell_type": "code",
   "execution_count": 85,
   "id": "5cbea962",
   "metadata": {},
   "outputs": [],
   "source": [
    "import copy\n",
    "\n",
    "l1 = [1,2,3,4]\n",
    "l2 = copy.deepcopy(l1)\n"
   ]
  },
  {
   "cell_type": "code",
   "execution_count": 86,
   "id": "f77ee956",
   "metadata": {},
   "outputs": [
    {
     "data": {
      "text/plain": [
       "[1, 2, 'a', 4]"
      ]
     },
     "execution_count": 86,
     "metadata": {},
     "output_type": "execute_result"
    }
   ],
   "source": [
    "l1[2] = 'a'\n",
    "l1"
   ]
  },
  {
   "cell_type": "code",
   "execution_count": 87,
   "id": "7db84ef4",
   "metadata": {},
   "outputs": [
    {
     "data": {
      "text/plain": [
       "[1, 2, 3, 4]"
      ]
     },
     "execution_count": 87,
     "metadata": {},
     "output_type": "execute_result"
    }
   ],
   "source": [
    "l2"
   ]
  },
  {
   "cell_type": "markdown",
   "id": "6210afbe",
   "metadata": {},
   "source": [
    "In deep copy, when we substitute values in a normal list, it works exactly like shallow copy. But let us see for Nested Lists"
   ]
  },
  {
   "cell_type": "code",
   "execution_count": 88,
   "id": "104019c0",
   "metadata": {},
   "outputs": [],
   "source": [
    "l3 = [[10,11,12],[13,14,15],[15,16,17]]\n",
    "l4 = copy.deepcopy(l3)"
   ]
  },
  {
   "cell_type": "code",
   "execution_count": 89,
   "id": "172ef325",
   "metadata": {},
   "outputs": [
    {
     "data": {
      "text/plain": [
       "[[10, 11, 12], [13, 14, 100], [15, 16, 17]]"
      ]
     },
     "execution_count": 89,
     "metadata": {},
     "output_type": "execute_result"
    }
   ],
   "source": [
    "l4[1][2] = 100\n",
    "l4"
   ]
  },
  {
   "cell_type": "code",
   "execution_count": 90,
   "id": "0984f8d9",
   "metadata": {},
   "outputs": [
    {
     "data": {
      "text/plain": [
       "[[10, 11, 12], [13, 14, 15], [15, 16, 17]]"
      ]
     },
     "execution_count": 90,
     "metadata": {},
     "output_type": "execute_result"
    }
   ],
   "source": [
    "l3"
   ]
  },
  {
   "cell_type": "markdown",
   "id": "a1b17a34",
   "metadata": {},
   "source": [
    "Here we see that, the list l3 is not being updated even when change was made at the object level which shows that both the variables have different memory location."
   ]
  }
 ],
 "metadata": {
  "kernelspec": {
   "display_name": "Python 3",
   "language": "python",
   "name": "python3"
  },
  "language_info": {
   "codemirror_mode": {
    "name": "ipython",
    "version": 3
   },
   "file_extension": ".py",
   "mimetype": "text/x-python",
   "name": "python",
   "nbconvert_exporter": "python",
   "pygments_lexer": "ipython3",
   "version": "3.8.3"
  }
 },
 "nbformat": 4,
 "nbformat_minor": 5
}
