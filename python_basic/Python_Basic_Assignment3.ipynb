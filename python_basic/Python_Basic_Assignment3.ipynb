{
 "cells": [
  {
   "cell_type": "markdown",
   "id": "23fe0b49",
   "metadata": {},
   "source": [
    "#### 1. Why are functions advantageous to have in your programs?\n",
    "\n",
    "##### Answer:\n",
    "\n",
    "Functions are advantageous as after declaring a function we can use it over and over again as many number of times as we want. This saves us a lot of time when we are coding some complex programs as we do not have to write a piece of same code again and instead just call it. For example, the \"print\" function is perhaps one of the widely used functions by beginners or pros alike. Instead of writing a code to print a something everytime, we use the built in \"print\" function."
   ]
  },
  {
   "cell_type": "markdown",
   "id": "9434ae04",
   "metadata": {},
   "source": [
    "#### 2. When does the code in a function run: when it's specified or when it's called?\n",
    "\n",
    "##### Answer\n",
    "\n",
    "The code in a function runs only when it is called. We may declare a function but till the time it is called, it will not run. Let's see an example below:"
   ]
  },
  {
   "cell_type": "code",
   "execution_count": 1,
   "id": "f1da93cb",
   "metadata": {},
   "outputs": [],
   "source": [
    "#let us first define a function\n",
    "\n",
    "def add_num(a,b): #this function adds two numbers\n",
    "    return a+b"
   ]
  },
  {
   "cell_type": "markdown",
   "id": "f670e93e",
   "metadata": {},
   "source": [
    "So, here we have declared a function but it will not run until we call it. Let us see how we do that:"
   ]
  },
  {
   "cell_type": "code",
   "execution_count": 2,
   "id": "5ce1e6d5",
   "metadata": {},
   "outputs": [
    {
     "data": {
      "text/plain": [
       "5"
      ]
     },
     "execution_count": 2,
     "metadata": {},
     "output_type": "execute_result"
    }
   ],
   "source": [
    "add_num(2,3) #this is how we call a function and pass arguments inside it"
   ]
  },
  {
   "cell_type": "markdown",
   "id": "94648d90",
   "metadata": {},
   "source": [
    "#### 3. What statement creates a function?\n",
    "\n",
    "##### Answer\n",
    "\n",
    "To create a function we use \"def\" keyword and then define the function name along with paranthesis and ':'. After that we define the body of the function. In the aboove example: we define a function that adds two numbers. So here we have used 'def' and after that 'add_num' is the name of the function which is followed by paranthesis and ':'."
   ]
  },
  {
   "cell_type": "markdown",
   "id": "3d457489",
   "metadata": {},
   "source": [
    "#### 4. What is the difference between a function and a function call?\n",
    "\n",
    "##### Answer\n",
    "\n",
    "A function is a block of code that performs some operation and gives an output whereas a function call means to invoke that block of code because a function by itself will not run. While calling a function we may pass arguments if at all the function takes it or if arguments have already been declared while defining the function. A function can be defined without arguments as well."
   ]
  },
  {
   "cell_type": "markdown",
   "id": "34d2ff78",
   "metadata": {},
   "source": [
    "#### 5. How many global scopes are there in a Python program? How many local scopes?\n",
    "\n",
    "##### Answer\n",
    "\n",
    "There is only one global scope in Python per program. That means in every program we can have only one global scope. A scope is the boundary of a program or a function. When we consider the entire program, we then speak of a global scope but when we create functions we speak of Local scopes. A local scope is a variable which is defined inside a function and cannot be called outside a function. Let us see through an example:"
   ]
  },
  {
   "cell_type": "code",
   "execution_count": 10,
   "id": "8ea5b4cc",
   "metadata": {},
   "outputs": [],
   "source": [
    "x = 50\n",
    "\n",
    "def func():\n",
    "    return x"
   ]
  },
  {
   "cell_type": "code",
   "execution_count": 11,
   "id": "b4a89d5c",
   "metadata": {},
   "outputs": [
    {
     "data": {
      "text/plain": [
       "50"
      ]
     },
     "execution_count": 11,
     "metadata": {},
     "output_type": "execute_result"
    }
   ],
   "source": [
    "func()"
   ]
  },
  {
   "cell_type": "markdown",
   "id": "19fe11f1",
   "metadata": {},
   "source": [
    "Here, 'x' is a global variable and can be called in a function but we cannot change a global variable. If we now try and change the vale of x, python will not allow us:"
   ]
  },
  {
   "cell_type": "code",
   "execution_count": 12,
   "id": "7ce427e2",
   "metadata": {},
   "outputs": [],
   "source": [
    "def func():\n",
    "    x= x+50\n",
    "    return x"
   ]
  },
  {
   "cell_type": "code",
   "execution_count": 13,
   "id": "78e8a045",
   "metadata": {},
   "outputs": [
    {
     "ename": "UnboundLocalError",
     "evalue": "local variable 'x' referenced before assignment",
     "output_type": "error",
     "traceback": [
      "\u001b[0;31m---------------------------------------------------------------------------\u001b[0m",
      "\u001b[0;31mUnboundLocalError\u001b[0m                         Traceback (most recent call last)",
      "\u001b[0;32m<ipython-input-13-bd1982955a12>\u001b[0m in \u001b[0;36m<module>\u001b[0;34m\u001b[0m\n\u001b[0;32m----> 1\u001b[0;31m \u001b[0mfunc\u001b[0m\u001b[0;34m(\u001b[0m\u001b[0;34m)\u001b[0m\u001b[0;34m\u001b[0m\u001b[0;34m\u001b[0m\u001b[0m\n\u001b[0m",
      "\u001b[0;32m<ipython-input-12-8ccb7f8a6e6f>\u001b[0m in \u001b[0;36mfunc\u001b[0;34m()\u001b[0m\n\u001b[1;32m      1\u001b[0m \u001b[0;32mdef\u001b[0m \u001b[0mfunc\u001b[0m\u001b[0;34m(\u001b[0m\u001b[0;34m)\u001b[0m\u001b[0;34m:\u001b[0m\u001b[0;34m\u001b[0m\u001b[0;34m\u001b[0m\u001b[0m\n\u001b[0;32m----> 2\u001b[0;31m     \u001b[0mx\u001b[0m\u001b[0;34m=\u001b[0m \u001b[0mx\u001b[0m\u001b[0;34m+\u001b[0m\u001b[0;36m50\u001b[0m\u001b[0;34m\u001b[0m\u001b[0;34m\u001b[0m\u001b[0m\n\u001b[0m\u001b[1;32m      3\u001b[0m     \u001b[0;32mreturn\u001b[0m \u001b[0mx\u001b[0m\u001b[0;34m\u001b[0m\u001b[0;34m\u001b[0m\u001b[0m\n",
      "\u001b[0;31mUnboundLocalError\u001b[0m: local variable 'x' referenced before assignment"
     ]
    }
   ],
   "source": [
    "func()"
   ]
  },
  {
   "cell_type": "markdown",
   "id": "78154d8c",
   "metadata": {},
   "source": [
    "We get an error here. For a local variable which is declared inside a function, it will be valid within the boundary of that function but will be invalid if it is called outside the function. Let's see:"
   ]
  },
  {
   "cell_type": "code",
   "execution_count": 14,
   "id": "c4acb880",
   "metadata": {},
   "outputs": [],
   "source": [
    "def func1(a,b):\n",
    "    result = a+b\n",
    "    return result"
   ]
  },
  {
   "cell_type": "code",
   "execution_count": 15,
   "id": "392a5de4",
   "metadata": {},
   "outputs": [
    {
     "data": {
      "text/plain": [
       "20"
      ]
     },
     "execution_count": 15,
     "metadata": {},
     "output_type": "execute_result"
    }
   ],
   "source": [
    "func1(10,10)"
   ]
  },
  {
   "cell_type": "markdown",
   "id": "7f2f1a3a",
   "metadata": {},
   "source": [
    "But now, if we try and call the local variable result without calling func1, we will get an error:"
   ]
  },
  {
   "cell_type": "code",
   "execution_count": 17,
   "id": "62564c47",
   "metadata": {},
   "outputs": [
    {
     "ename": "NameError",
     "evalue": "name 'result' is not defined",
     "output_type": "error",
     "traceback": [
      "\u001b[0;31m---------------------------------------------------------------------------\u001b[0m",
      "\u001b[0;31mNameError\u001b[0m                                 Traceback (most recent call last)",
      "\u001b[0;32m<ipython-input-17-6459d04d738f>\u001b[0m in \u001b[0;36m<module>\u001b[0;34m\u001b[0m\n\u001b[0;32m----> 1\u001b[0;31m \u001b[0mprint\u001b[0m\u001b[0;34m(\u001b[0m\u001b[0mresult\u001b[0m\u001b[0;34m)\u001b[0m\u001b[0;34m\u001b[0m\u001b[0;34m\u001b[0m\u001b[0m\n\u001b[0m",
      "\u001b[0;31mNameError\u001b[0m: name 'result' is not defined"
     ]
    }
   ],
   "source": [
    "print(result)"
   ]
  },
  {
   "cell_type": "markdown",
   "id": "ee29bcdb",
   "metadata": {},
   "source": [
    "#### 6. What happens to variables in a local scope when the function call returns?\n",
    "\n",
    "##### Answer\n",
    "\n",
    "When the function call returns or terminates, the local variable is destroyed. The local variable only exists till the function is being executed."
   ]
  },
  {
   "cell_type": "markdown",
   "id": "22af18a4",
   "metadata": {},
   "source": [
    "#### 7. What is the concept of a return value? Is it possible to have a return value in an expression?\n",
    "\n",
    "##### Answer\n",
    "\n",
    "A return statement gives us a return value in a function once the expression in the function has finished computing. Return marks the end of any function. Any lines of code after return will not be processed by the compiler. An expression outside a function cannot have a return value. Let's see with an example:"
   ]
  },
  {
   "cell_type": "code",
   "execution_count": 21,
   "id": "ec25520a",
   "metadata": {},
   "outputs": [],
   "source": [
    "def test(a,b):\n",
    "    return a*b\n",
    "    print('this is a multiplication function')"
   ]
  },
  {
   "cell_type": "code",
   "execution_count": 28,
   "id": "a8a87726",
   "metadata": {},
   "outputs": [
    {
     "data": {
      "text/plain": [
       "6"
      ]
     },
     "execution_count": 28,
     "metadata": {},
     "output_type": "execute_result"
    }
   ],
   "source": [
    "test(2,3)"
   ]
  },
  {
   "cell_type": "markdown",
   "id": "134e214a",
   "metadata": {},
   "source": [
    "Here we see that the function only return the product of the two numbers and does not print the line after return."
   ]
  },
  {
   "cell_type": "code",
   "execution_count": 23,
   "id": "f9f975e3",
   "metadata": {},
   "outputs": [
    {
     "ename": "SyntaxError",
     "evalue": "'return' outside function (<ipython-input-23-f25f73900b52>, line 2)",
     "output_type": "error",
     "traceback": [
      "\u001b[0;36m  File \u001b[0;32m\"<ipython-input-23-f25f73900b52>\"\u001b[0;36m, line \u001b[0;32m2\u001b[0m\n\u001b[0;31m    return x\u001b[0m\n\u001b[0m    ^\u001b[0m\n\u001b[0;31mSyntaxError\u001b[0m\u001b[0;31m:\u001b[0m 'return' outside function\n"
     ]
    }
   ],
   "source": [
    "x = 6\n",
    "return x"
   ]
  },
  {
   "cell_type": "markdown",
   "id": "f3f5018c",
   "metadata": {},
   "source": [
    "We cannot return a value of an expression outside a function"
   ]
  },
  {
   "cell_type": "markdown",
   "id": "6dac5206",
   "metadata": {},
   "source": [
    "#### 8. If a function does not have a return statement, what is the return value of a call to that function?\n",
    "\n",
    "\n",
    "##### Answer\n",
    "\n",
    "A function without a return statement does not return any value on function call. Rather it returns to the begining of the function after the last statement of the function is executed. It returns a None type as shown in the below example."
   ]
  },
  {
   "cell_type": "code",
   "execution_count": 24,
   "id": "6900502e",
   "metadata": {},
   "outputs": [],
   "source": [
    "def test1(a,b):\n",
    "    a+b"
   ]
  },
  {
   "cell_type": "code",
   "execution_count": 26,
   "id": "6c4f850e",
   "metadata": {},
   "outputs": [
    {
     "data": {
      "text/plain": [
       "NoneType"
      ]
     },
     "execution_count": 26,
     "metadata": {},
     "output_type": "execute_result"
    }
   ],
   "source": [
    "type(test1(2,3))"
   ]
  },
  {
   "cell_type": "markdown",
   "id": "943bcd55",
   "metadata": {},
   "source": [
    "#### 9. How do you make a function variable refer to the global variable?\n",
    "\n",
    "\n",
    "##### Answer\n",
    "\n",
    "The function or local variable to refer to the global variable just needs to call it in the function as shown below. But it cannot assign new value inside the function to the global variable."
   ]
  },
  {
   "cell_type": "code",
   "execution_count": 61,
   "id": "4949da07",
   "metadata": {},
   "outputs": [],
   "source": [
    "cap = 'madras'\n",
    "\n",
    "def capital():\n",
    "    print('the old capital of Tamil Nadu is ',cap.title())"
   ]
  },
  {
   "cell_type": "code",
   "execution_count": 62,
   "id": "4747c45b",
   "metadata": {},
   "outputs": [
    {
     "name": "stdout",
     "output_type": "stream",
     "text": [
      "the old capital of Tamil Nadu is  Madras\n"
     ]
    }
   ],
   "source": [
    "capital()"
   ]
  },
  {
   "cell_type": "code",
   "execution_count": 63,
   "id": "e47200a7",
   "metadata": {},
   "outputs": [],
   "source": [
    "def new_cap():\n",
    "    cap = 'chennai'\n",
    "    print('the new capital name of Tamil Nadu is ',cap)"
   ]
  },
  {
   "cell_type": "code",
   "execution_count": 64,
   "id": "af7fc9c1",
   "metadata": {},
   "outputs": [
    {
     "name": "stdout",
     "output_type": "stream",
     "text": [
      "the new capital name of Tamil Nadu is  chennai\n"
     ]
    }
   ],
   "source": [
    "new_cap()"
   ]
  },
  {
   "cell_type": "code",
   "execution_count": 65,
   "id": "2cdb57ab",
   "metadata": {},
   "outputs": [
    {
     "data": {
      "text/plain": [
       "'madras'"
      ]
     },
     "execution_count": 65,
     "metadata": {},
     "output_type": "execute_result"
    }
   ],
   "source": [
    "cap"
   ]
  },
  {
   "cell_type": "markdown",
   "id": "819e640d",
   "metadata": {},
   "source": [
    "Here 'cap' inside the function new_cap is a local variable and has no relation to the global variable cap='madras' whatsoever. But, if we want to call the global variable inside the function and assign a new value to it we can use the 'global' keyword. After using the global keyword, the value of the global variable is changed"
   ]
  },
  {
   "cell_type": "code",
   "execution_count": 66,
   "id": "9e51fed0",
   "metadata": {},
   "outputs": [],
   "source": [
    "def capital1():\n",
    "    global cap\n",
    "    cap = 'bhopal'\n",
    "    print(cap,'is not the capital of Tamil Nadu')"
   ]
  },
  {
   "cell_type": "code",
   "execution_count": 67,
   "id": "e3d12962",
   "metadata": {},
   "outputs": [
    {
     "name": "stdout",
     "output_type": "stream",
     "text": [
      "bhopal is not the capital of Tamil Nadu\n"
     ]
    }
   ],
   "source": [
    "capital1()"
   ]
  },
  {
   "cell_type": "code",
   "execution_count": 68,
   "id": "790ee296",
   "metadata": {},
   "outputs": [
    {
     "name": "stdout",
     "output_type": "stream",
     "text": [
      "the old capital of Tamil Nadu is  Bhopal\n"
     ]
    }
   ],
   "source": [
    "capital()"
   ]
  },
  {
   "cell_type": "markdown",
   "id": "19b57fb2",
   "metadata": {},
   "source": [
    "#### 10. What is the data type of None?\n",
    "\n",
    "\n",
    "##### Answer\n",
    "\n",
    "None in itself is a data type of the type None as shown below."
   ]
  },
  {
   "cell_type": "code",
   "execution_count": 69,
   "id": "b0ef1a22",
   "metadata": {},
   "outputs": [
    {
     "data": {
      "text/plain": [
       "NoneType"
      ]
     },
     "execution_count": 69,
     "metadata": {},
     "output_type": "execute_result"
    }
   ],
   "source": [
    "type(None)"
   ]
  },
  {
   "cell_type": "markdown",
   "id": "e3f5e22f",
   "metadata": {},
   "source": [
    "#### 11. What does the sentence import areallyourpetsnamederic do?\n",
    "\n",
    "\n",
    "##### Answer\n",
    "\n",
    "The import keyword tries to import available modules from the python library. Here it will try to import 'areallyourpetsnamederic'. If it is available in the library it will be loaded in the current session of the Jupyter Notebook but as shown below, there is no Module by this name and hence we get an error"
   ]
  },
  {
   "cell_type": "code",
   "execution_count": 70,
   "id": "aee591a2",
   "metadata": {},
   "outputs": [
    {
     "ename": "ModuleNotFoundError",
     "evalue": "No module named 'areallyourpetsnamederic'",
     "output_type": "error",
     "traceback": [
      "\u001b[0;31m---------------------------------------------------------------------------\u001b[0m",
      "\u001b[0;31mModuleNotFoundError\u001b[0m                       Traceback (most recent call last)",
      "\u001b[0;32m<ipython-input-70-b1ea9cb2228f>\u001b[0m in \u001b[0;36m<module>\u001b[0;34m\u001b[0m\n\u001b[0;32m----> 1\u001b[0;31m \u001b[0;32mimport\u001b[0m \u001b[0mareallyourpetsnamederic\u001b[0m\u001b[0;34m\u001b[0m\u001b[0;34m\u001b[0m\u001b[0m\n\u001b[0m",
      "\u001b[0;31mModuleNotFoundError\u001b[0m: No module named 'areallyourpetsnamederic'"
     ]
    }
   ],
   "source": [
    "import areallyourpetsnamederic"
   ]
  },
  {
   "cell_type": "markdown",
   "id": "470bc06b",
   "metadata": {},
   "source": [
    "#### 12. If you had a bacon() feature in a spam module, what would you call it after importing spam?\n",
    "\n",
    "\n",
    "##### Answer\n",
    "\n",
    "After importing spam module, we need to call the bacon feature by inserting the following spam.bacon()"
   ]
  },
  {
   "cell_type": "markdown",
   "id": "7623081d",
   "metadata": {},
   "source": [
    "#### 13. What can you do to save a programme from crashing if it encounters an error?\n",
    "\n",
    "\n",
    "##### Answer\n",
    "\n",
    "We can use Error Handling in order to prevent a programme from crashing if it encounters an error. "
   ]
  },
  {
   "cell_type": "markdown",
   "id": "e6ce6842",
   "metadata": {},
   "source": [
    "#### 14. What is the purpose of the try clause? What is the purpose of the except clause?\n",
    "\n",
    "\n",
    "##### Answer\n",
    "\n",
    "When we have some code that we are not sure of we put it under the try clause and if that code fails, any error that will result from it will be handled by the except clause. Lets see with an example:"
   ]
  },
  {
   "cell_type": "code",
   "execution_count": 75,
   "id": "61b5b0fa",
   "metadata": {},
   "outputs": [
    {
     "name": "stdout",
     "output_type": "stream",
     "text": [
      "enter a number: 0\n",
      "The error ecountered is:  division by zero\n"
     ]
    }
   ],
   "source": [
    "a = int(input(\"enter a number: \"))\n",
    "try:\n",
    "    c= 50/a\n",
    "        \n",
    "except Exception as e:\n",
    "    print('The error ecountered is: ',e)"
   ]
  }
 ],
 "metadata": {
  "kernelspec": {
   "display_name": "Python 3",
   "language": "python",
   "name": "python3"
  },
  "language_info": {
   "codemirror_mode": {
    "name": "ipython",
    "version": 3
   },
   "file_extension": ".py",
   "mimetype": "text/x-python",
   "name": "python",
   "nbconvert_exporter": "python",
   "pygments_lexer": "ipython3",
   "version": "3.8.3"
  }
 },
 "nbformat": 4,
 "nbformat_minor": 5
}
