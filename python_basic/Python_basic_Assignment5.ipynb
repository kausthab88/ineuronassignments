{
 "cells": [
  {
   "cell_type": "markdown",
   "id": "75d8c62a",
   "metadata": {},
   "source": [
    "#### 1. What does an empty dictionary's code look like?\n",
    "\n",
    "##### Answer\n",
    "\n",
    "An empty dictionary is created by assigning a variable to \"{}\". After that if we check the type of the variable it should should return us dictionary.Let us see below:"
   ]
  },
  {
   "cell_type": "code",
   "execution_count": 3,
   "id": "03c696e5",
   "metadata": {},
   "outputs": [],
   "source": [
    "a = {}"
   ]
  },
  {
   "cell_type": "code",
   "execution_count": 4,
   "id": "6a6f56f3",
   "metadata": {},
   "outputs": [
    {
     "data": {
      "text/plain": [
       "dict"
      ]
     },
     "execution_count": 4,
     "metadata": {},
     "output_type": "execute_result"
    }
   ],
   "source": [
    "type(a)"
   ]
  },
  {
   "cell_type": "markdown",
   "id": "86b2291f",
   "metadata": {},
   "source": [
    "#### 2. What is the value of a dictionary value with the key 'foo' and the value 42?\n",
    "\n",
    "##### Answer\n",
    "\n",
    "A dictionary with a key \"foo\" and value \"42\" can be represented as"
   ]
  },
  {
   "cell_type": "code",
   "execution_count": 5,
   "id": "fb31e353",
   "metadata": {},
   "outputs": [],
   "source": [
    "test = {\"foo\":42}"
   ]
  },
  {
   "cell_type": "code",
   "execution_count": 8,
   "id": "21a68c99",
   "metadata": {},
   "outputs": [
    {
     "data": {
      "text/plain": [
       "dict_values([42])"
      ]
     },
     "execution_count": 8,
     "metadata": {},
     "output_type": "execute_result"
    }
   ],
   "source": [
    "test.values()"
   ]
  },
  {
   "cell_type": "markdown",
   "id": "0558abcd",
   "metadata": {},
   "source": [
    "The value can be called by using .values() inbuilt method as shown above"
   ]
  },
  {
   "cell_type": "markdown",
   "id": "c15c1d82",
   "metadata": {},
   "source": [
    "#### 3. What is the most significant distinction between a dictionary and a list?\n",
    "\n",
    "##### Answer\n",
    "\n",
    "Apart from the fact that Lists are ordered and Dictionaries are unordered, the most important distinction between list and dictionary is that list are accessed using their index positions while dictionary is accessed by their keys. Let us see with an example:"
   ]
  },
  {
   "cell_type": "code",
   "execution_count": 9,
   "id": "b12f5d93",
   "metadata": {},
   "outputs": [],
   "source": [
    "#let us look at a list first\n",
    "\n",
    "lst = [1,2,3,\"string\",\"fox\"]"
   ]
  },
  {
   "cell_type": "code",
   "execution_count": 10,
   "id": "85bca558",
   "metadata": {},
   "outputs": [
    {
     "data": {
      "text/plain": [
       "3"
      ]
     },
     "execution_count": 10,
     "metadata": {},
     "output_type": "execute_result"
    }
   ],
   "source": [
    "#if we have to access the 3rd element in the list, we do the following\n",
    "\n",
    "lst[2]"
   ]
  },
  {
   "cell_type": "markdown",
   "id": "81198d2d",
   "metadata": {},
   "source": [
    "We just have to access the index position of the element that we want. While dictionaries a bit different. Let us define a dictionary first"
   ]
  },
  {
   "cell_type": "code",
   "execution_count": 11,
   "id": "d846fed2",
   "metadata": {},
   "outputs": [],
   "source": [
    "test = {\"a\": [1,2,3],\n",
    "       23: ('a','b','c'),\n",
    "       \"test\": {\"b\": [6,7,8]}}"
   ]
  },
  {
   "cell_type": "markdown",
   "id": "3c6de646",
   "metadata": {},
   "source": [
    "Now, if we want to access the values of the second key, we need to do the follwoing:"
   ]
  },
  {
   "cell_type": "code",
   "execution_count": 12,
   "id": "eb909940",
   "metadata": {},
   "outputs": [
    {
     "data": {
      "text/plain": [
       "('a', 'b', 'c')"
      ]
     },
     "execution_count": 12,
     "metadata": {},
     "output_type": "execute_result"
    }
   ],
   "source": [
    "test[23]"
   ]
  },
  {
   "cell_type": "markdown",
   "id": "edfa1f48",
   "metadata": {},
   "source": [
    "The tuple was returned by calling the \"key\" related to that value"
   ]
  },
  {
   "cell_type": "markdown",
   "id": "ce9d6ddb",
   "metadata": {},
   "source": [
    "#### 4. What happens if you try to access spam['foo'] if spam is {'bar': 100}?\n",
    "\n",
    "##### Answer\n",
    "\n",
    "There is no key in the dictionary 'spam' by 'foo'. Hence we are going to get a 'Keyword' error as shown below:"
   ]
  },
  {
   "cell_type": "code",
   "execution_count": 13,
   "id": "15e31313",
   "metadata": {},
   "outputs": [],
   "source": [
    "spam = {'bar':100}"
   ]
  },
  {
   "cell_type": "code",
   "execution_count": 14,
   "id": "24d9bd35",
   "metadata": {},
   "outputs": [
    {
     "ename": "KeyError",
     "evalue": "'foo'",
     "output_type": "error",
     "traceback": [
      "\u001b[0;31m---------------------------------------------------------------------------\u001b[0m",
      "\u001b[0;31mKeyError\u001b[0m                                  Traceback (most recent call last)",
      "\u001b[0;32m<ipython-input-14-9b5a94d1de8d>\u001b[0m in \u001b[0;36m<module>\u001b[0;34m\u001b[0m\n\u001b[0;32m----> 1\u001b[0;31m \u001b[0mspam\u001b[0m\u001b[0;34m[\u001b[0m\u001b[0;34m'foo'\u001b[0m\u001b[0;34m]\u001b[0m\u001b[0;34m\u001b[0m\u001b[0;34m\u001b[0m\u001b[0m\n\u001b[0m",
      "\u001b[0;31mKeyError\u001b[0m: 'foo'"
     ]
    }
   ],
   "source": [
    "spam['foo']"
   ]
  },
  {
   "cell_type": "markdown",
   "id": "42d8ae37",
   "metadata": {},
   "source": [
    "#### 5. If a dictionary is stored in spam, what is the difference between the expressions 'cat' in spam and 'cat' in spam.keys()?\n",
    "\n",
    "##### Answer\n",
    "\n",
    "There is no difference between 'cat' in spam and 'cat' in spam.keys() as both these statememts checks the dictionary for the 'key' spam. Let's see below:"
   ]
  },
  {
   "cell_type": "code",
   "execution_count": 20,
   "id": "7aa0f790",
   "metadata": {},
   "outputs": [],
   "source": [
    "spam = {'animal': 'cat'}"
   ]
  },
  {
   "cell_type": "code",
   "execution_count": 22,
   "id": "c6e00514",
   "metadata": {
    "scrolled": true
   },
   "outputs": [
    {
     "data": {
      "text/plain": [
       "False"
      ]
     },
     "execution_count": 22,
     "metadata": {},
     "output_type": "execute_result"
    }
   ],
   "source": [
    "'cat' in spam"
   ]
  },
  {
   "cell_type": "code",
   "execution_count": 23,
   "id": "b89aadbe",
   "metadata": {},
   "outputs": [
    {
     "data": {
      "text/plain": [
       "False"
      ]
     },
     "execution_count": 23,
     "metadata": {},
     "output_type": "execute_result"
    }
   ],
   "source": [
    "'cat' in spam.keys()"
   ]
  },
  {
   "cell_type": "markdown",
   "id": "e916ee5d",
   "metadata": {},
   "source": [
    "Since here 'cat' is a value for the key 'animal' we get a False return. Now, let us see what happens if we make 'cat' the key:"
   ]
  },
  {
   "cell_type": "code",
   "execution_count": 24,
   "id": "2c26f24f",
   "metadata": {},
   "outputs": [],
   "source": [
    "spam = {'cat':'meow'}"
   ]
  },
  {
   "cell_type": "code",
   "execution_count": 25,
   "id": "154155f9",
   "metadata": {},
   "outputs": [
    {
     "data": {
      "text/plain": [
       "True"
      ]
     },
     "execution_count": 25,
     "metadata": {},
     "output_type": "execute_result"
    }
   ],
   "source": [
    "'cat' in spam"
   ]
  },
  {
   "cell_type": "code",
   "execution_count": 26,
   "id": "486ddf74",
   "metadata": {},
   "outputs": [
    {
     "data": {
      "text/plain": [
       "True"
      ]
     },
     "execution_count": 26,
     "metadata": {},
     "output_type": "execute_result"
    }
   ],
   "source": [
    "'cat' in spam.keys()"
   ]
  },
  {
   "cell_type": "markdown",
   "id": "24683c72",
   "metadata": {},
   "source": [
    "Here we see that, both the codes return True. This only goes on to show that, dictionary items by default will check for 'keys' unless specified by dict.value(), that a value is being searched."
   ]
  },
  {
   "cell_type": "markdown",
   "id": "5bce94bd",
   "metadata": {},
   "source": [
    "#### 6. If a dictionary is stored in spam, what is the difference between the expressions 'cat' in spam and 'cat' in spam.values()?\n",
    "\n",
    "##### Answer\n",
    "\n",
    "As specified in the previous answer, 'cat' in spam checks the dictionary if 'cat' is the \"key\" in the dictionary while 'cat' in spam.values() checks if 'cat' is present in the dictionary as a value to a key. "
   ]
  },
  {
   "cell_type": "markdown",
   "id": "425a32ba",
   "metadata": {},
   "source": [
    "#### 7. What is a shortcut for the following code?\n",
    "\n",
    "if 'color' not in spam:\n",
    "\n",
    "    spam['color'] = 'black'\n"
   ]
  },
  {
   "cell_type": "code",
   "execution_count": 35,
   "id": "53dd2003",
   "metadata": {},
   "outputs": [
    {
     "data": {
      "text/plain": [
       "{'color': 'black'}"
      ]
     },
     "execution_count": 35,
     "metadata": {},
     "output_type": "execute_result"
    }
   ],
   "source": [
    "{'color':'black' for color in spam}"
   ]
  },
  {
   "cell_type": "markdown",
   "id": "5ffdbda6",
   "metadata": {},
   "source": [
    "We can use dictionary comprehension to shorten the code given in the question"
   ]
  },
  {
   "cell_type": "markdown",
   "id": "ff0af907",
   "metadata": {},
   "source": [
    "#### 8. How do you \"pretty print\" dictionary values using which module and function?\n",
    "\n",
    "##### Answer\n",
    "\n",
    "To 'pretty print' dictionary value, we will import the pretty print or 'pprint' module and use the inbuilt function by the same name that is 'pprint'. Let us see with an example:"
   ]
  },
  {
   "cell_type": "code",
   "execution_count": 39,
   "id": "7c29df77",
   "metadata": {},
   "outputs": [],
   "source": [
    "books = {'book_name': ['abs','ghd','rty'],\n",
    "         'published_on': [2020,1990,2011],\n",
    "        'author_name': ('ddf','kjh','ttr')}"
   ]
  },
  {
   "cell_type": "code",
   "execution_count": 40,
   "id": "b18d8719",
   "metadata": {},
   "outputs": [],
   "source": [
    "from pprint import pprint"
   ]
  },
  {
   "cell_type": "code",
   "execution_count": 41,
   "id": "cecedb15",
   "metadata": {},
   "outputs": [
    {
     "name": "stdout",
     "output_type": "stream",
     "text": [
      "{'author_name': ('ddf', 'kjh', 'ttr'),\n",
      " 'book_name': ['abs', 'ghd', 'rty'],\n",
      " 'published_on': [2020, 1990, 2011]}\n"
     ]
    }
   ],
   "source": [
    "pprint(books)"
   ]
  }
 ],
 "metadata": {
  "kernelspec": {
   "display_name": "Python 3",
   "language": "python",
   "name": "python3"
  },
  "language_info": {
   "codemirror_mode": {
    "name": "ipython",
    "version": 3
   },
   "file_extension": ".py",
   "mimetype": "text/x-python",
   "name": "python",
   "nbconvert_exporter": "python",
   "pygments_lexer": "ipython3",
   "version": "3.8.3"
  }
 },
 "nbformat": 4,
 "nbformat_minor": 5
}
