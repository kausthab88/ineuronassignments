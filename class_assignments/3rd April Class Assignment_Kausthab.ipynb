{
 "cells": [
  {
   "cell_type": "markdown",
   "id": "b9808de2",
   "metadata": {},
   "source": [
    "## Create a Directory"
   ]
  },
  {
   "cell_type": "code",
   "execution_count": 27,
   "id": "264068cf",
   "metadata": {},
   "outputs": [],
   "source": [
    "import os"
   ]
  },
  {
   "cell_type": "code",
   "execution_count": 28,
   "id": "2e2820ed",
   "metadata": {},
   "outputs": [],
   "source": [
    "os.chdir('/Users/kausthab/Documents/Documents – Kausthab’s MacBook Air/DSBA/iNeuron Course/Class Notebboks')"
   ]
  },
  {
   "cell_type": "code",
   "execution_count": 29,
   "id": "0f76b16e",
   "metadata": {},
   "outputs": [],
   "source": [
    "if not os.path.isdir('assignment'):\n",
    "    os.mkdir('assignment')"
   ]
  },
  {
   "cell_type": "markdown",
   "id": "f97fa105",
   "metadata": {},
   "source": [
    "## Create 10 text file and write some text in these file all at one time"
   ]
  },
  {
   "cell_type": "code",
   "execution_count": 30,
   "id": "0c081024",
   "metadata": {},
   "outputs": [
    {
     "data": {
      "text/plain": [
       "['.DS_Store',\n",
       " 'test2.txt',\n",
       " 'Untitled.ipynb',\n",
       " 'Class Notes',\n",
       " 'assignment',\n",
       " 'ineuron_all_lectures_practice.ipynb',\n",
       " 'test.txt',\n",
       " '.ipynb_checkpoints',\n",
       " 'new_test.txt',\n",
       " 'Intro to Python-Lecture1.ipynb']"
      ]
     },
     "execution_count": 30,
     "metadata": {},
     "output_type": "execute_result"
    }
   ],
   "source": [
    "os.listdir()"
   ]
  },
  {
   "cell_type": "code",
   "execution_count": 31,
   "id": "58104b1a",
   "metadata": {},
   "outputs": [],
   "source": [
    "os.chdir('/Users/kausthab/Documents/Documents – Kausthab’s MacBook Air/DSBA/iNeuron Course/Class Notebboks/assignment')"
   ]
  },
  {
   "cell_type": "code",
   "execution_count": 32,
   "id": "de9ff8fa",
   "metadata": {},
   "outputs": [
    {
     "data": {
      "text/plain": [
       "[]"
      ]
     },
     "execution_count": 32,
     "metadata": {},
     "output_type": "execute_result"
    }
   ],
   "source": [
    "os.listdir()"
   ]
  },
  {
   "cell_type": "code",
   "execution_count": 33,
   "id": "21974857",
   "metadata": {},
   "outputs": [],
   "source": [
    "for i in range(1,11):\n",
    "    f = open(f\"{i}test.txt\",'w')\n",
    "    f.write(f\"this is a test{i}\")\n",
    "    f.close()\n",
    "    "
   ]
  },
  {
   "cell_type": "markdown",
   "id": "69c61dea",
   "metadata": {},
   "source": [
    "## Read all data from this directory/file and print it in the console"
   ]
  },
  {
   "cell_type": "markdown",
   "id": "f501f69f",
   "metadata": {},
   "source": [
    "## Hold all the data in a list"
   ]
  },
  {
   "cell_type": "code",
   "execution_count": 34,
   "id": "2edf2411",
   "metadata": {},
   "outputs": [
    {
     "name": "stdout",
     "output_type": "stream",
     "text": [
      "['this is a test1', 'this is a test2', 'this is a test3', 'this is a test4', 'this is a test5', 'this is a test6', 'this is a test7', 'this is a test8', 'this is a test9', 'this is a test10']\n"
     ]
    }
   ],
   "source": [
    "l = []\n",
    "for i in range(1,11):\n",
    "    f = open(f'{i}test.txt','r+')\n",
    "    read = f.read()\n",
    "    l.append(read) \n",
    "    f.close()\n",
    "print(l)"
   ]
  },
  {
   "cell_type": "markdown",
   "id": "b6000fa2",
   "metadata": {},
   "source": [
    "## Write all the data in a new file from list"
   ]
  },
  {
   "cell_type": "code",
   "execution_count": 35,
   "id": "a39a40b4",
   "metadata": {},
   "outputs": [],
   "source": [
    "for text in l:\n",
    "    g = open('new_test.txt','a+')\n",
    "    g.write(text)\n",
    "    g.close()"
   ]
  },
  {
   "cell_type": "code",
   "execution_count": 36,
   "id": "a98dfaf4",
   "metadata": {},
   "outputs": [
    {
     "data": {
      "text/plain": [
       "'this is a test1this is a test2this is a test3this is a test4this is a test5this is a test6this is a test7this is a test8this is a test9this is a test10'"
      ]
     },
     "execution_count": 36,
     "metadata": {},
     "output_type": "execute_result"
    }
   ],
   "source": [
    "f = open('new_test.txt','r')\n",
    "f.read()"
   ]
  },
  {
   "cell_type": "markdown",
   "id": "df6c7146",
   "metadata": {},
   "source": [
    "## Keep only the new file in the current directory and move the rest to new directory"
   ]
  },
  {
   "cell_type": "code",
   "execution_count": 37,
   "id": "9036e512",
   "metadata": {},
   "outputs": [],
   "source": [
    "import shutil"
   ]
  },
  {
   "cell_type": "code",
   "execution_count": 38,
   "id": "468d2da4",
   "metadata": {},
   "outputs": [
    {
     "data": {
      "text/plain": [
       "['9test.txt',\n",
       " '1test.txt',\n",
       " '8test.txt',\n",
       " '10test.txt',\n",
       " '3test.txt',\n",
       " '2test.txt',\n",
       " '7test.txt',\n",
       " '6test.txt',\n",
       " '4test.txt',\n",
       " 'new_test.txt',\n",
       " '5test.txt']"
      ]
     },
     "execution_count": 38,
     "metadata": {},
     "output_type": "execute_result"
    }
   ],
   "source": [
    "os.listdir()"
   ]
  },
  {
   "cell_type": "code",
   "execution_count": 39,
   "id": "736b2c55",
   "metadata": {},
   "outputs": [
    {
     "data": {
      "text/plain": [
       "'/Users/kausthab/Documents/Documents – Kausthab’s MacBook Air/DSBA/iNeuron Course/Class Notebboks/assignment'"
      ]
     },
     "execution_count": 39,
     "metadata": {},
     "output_type": "execute_result"
    }
   ],
   "source": [
    "pwd()"
   ]
  },
  {
   "cell_type": "code",
   "execution_count": 40,
   "id": "15a235f9",
   "metadata": {},
   "outputs": [],
   "source": [
    "os.chdir('/Users/kausthab/Documents/Documents – Kausthab’s MacBook Air/DSBA/iNeuron Course/Class Notebboks')"
   ]
  },
  {
   "cell_type": "code",
   "execution_count": 41,
   "id": "164e2a8b",
   "metadata": {},
   "outputs": [],
   "source": [
    "if not os.path.isdir('newly_moved'):\n",
    "    os.mkdir('newly_moved')"
   ]
  },
  {
   "cell_type": "code",
   "execution_count": 42,
   "id": "ac04b498",
   "metadata": {},
   "outputs": [],
   "source": [
    "destination = '/Users/kausthab/Documents/Documents – Kausthab’s MacBook Air/DSBA/iNeuron Course/Class Notebboks/newly_moved'\n",
    "source = '/Users/kausthab/Documents/Documents – Kausthab’s MacBook Air/DSBA/iNeuron Course/Class Notebboks/Assignment'\n",
    "\n"
   ]
  },
  {
   "cell_type": "code",
   "execution_count": 43,
   "id": "81908e81",
   "metadata": {},
   "outputs": [],
   "source": [
    "os.chdir('/Users/kausthab/Documents/Documents – Kausthab’s MacBook Air/DSBA/iNeuron Course/Class Notebboks/assignment')"
   ]
  },
  {
   "cell_type": "code",
   "execution_count": 44,
   "id": "f75d2ec7",
   "metadata": {},
   "outputs": [],
   "source": [
    "files = os.listdir()"
   ]
  },
  {
   "cell_type": "code",
   "execution_count": 45,
   "id": "991a9f2b",
   "metadata": {},
   "outputs": [],
   "source": [
    "for file in files:\n",
    "    if \"new_test.txt\" in file:\n",
    "        continue\n",
    "    else:\n",
    "       shutil.move(os.path.join(source,file),os.path.join(destination,file))"
   ]
  }
 ],
 "metadata": {
  "kernelspec": {
   "display_name": "Python 3",
   "language": "python",
   "name": "python3"
  },
  "language_info": {
   "codemirror_mode": {
    "name": "ipython",
    "version": 3
   },
   "file_extension": ".py",
   "mimetype": "text/x-python",
   "name": "python",
   "nbconvert_exporter": "python",
   "pygments_lexer": "ipython3",
   "version": "3.8.3"
  }
 },
 "nbformat": 4,
 "nbformat_minor": 5
}
