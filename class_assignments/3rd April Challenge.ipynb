{
 "cells": [
  {
   "cell_type": "code",
   "execution_count": 44,
   "id": "50f3a293",
   "metadata": {},
   "outputs": [],
   "source": [
    "import os\n",
    "from docx import Document\n",
    "import shutil"
   ]
  },
  {
   "cell_type": "code",
   "execution_count": 89,
   "id": "ecf8e385",
   "metadata": {},
   "outputs": [
    {
     "data": {
      "text/plain": [
       "'/Users/kausthab/Documents/Documents – Kausthab’s MacBook Air/DSBA/iNeuron Course'"
      ]
     },
     "execution_count": 89,
     "metadata": {},
     "output_type": "execute_result"
    }
   ],
   "source": [
    "pwd()"
   ]
  },
  {
   "cell_type": "code",
   "execution_count": 175,
   "id": "8ffc59ce",
   "metadata": {},
   "outputs": [],
   "source": [
    "doc1 = Document() #created a empty instance of the object"
   ]
  },
  {
   "cell_type": "code",
   "execution_count": 156,
   "id": "4246efb9",
   "metadata": {},
   "outputs": [],
   "source": [
    "download = os.listdir('/Users/kausthab/Downloads') #all files got downloaded to Download folder,so starting all \n",
    "#coding from the 'download' variable\n",
    "\n",
    "#renaming files\n",
    "\n",
    "for file in download:\n",
    "    new_file = file.replace('-','--') #duplicate files in MacOS appends a '-' and then the number. so replacing\n",
    "    #the hyphen with '--'\n",
    "    os.rename(file,new_file)"
   ]
  },
  {
   "cell_type": "code",
   "execution_count": 102,
   "id": "92f3a19a",
   "metadata": {
    "scrolled": false
   },
   "outputs": [],
   "source": [
    "for i in os.listdir(): #all the file processing is happening at the root folder i.e the 'Downloads' folder\n",
    "    if i.startswith('Assignment') and i.endswith('.docx') and  '_' not in i: #Advanced Programming files do not\n",
    "        #have programming mentioned anywhere and these files are named without any '_'. So renaming them to avoid confusion\n",
    "        new_name = \"Programming_\"+i[0:10]+'_'+i[10:]\n",
    "        os.rename(i,new_name)\n",
    "        \n",
    "       "
   ]
  },
  {
   "cell_type": "code",
   "execution_count": 104,
   "id": "97d8c2ee",
   "metadata": {},
   "outputs": [],
   "source": [
    "#creating the respectiove folders or directories\n",
    "\n",
    "if not os.path.isdir('/Users/kausthab/Documents/Documents – Kausthab’s MacBook Air/DSBA/iNeuron Course/Assignment'):\n",
    "    os.mkdir('/Users/kausthab/Documents/Documents – Kausthab’s MacBook Air/DSBA/iNeuron Course/Assignment')\n"
   ]
  },
  {
   "cell_type": "code",
   "execution_count": 105,
   "id": "3e3ca1cc",
   "metadata": {},
   "outputs": [],
   "source": [
    "if not os.path.isdir('/Users/kausthab/Documents/Documents – Kausthab’s MacBook Air/DSBA/iNeuron Course/Programming'):\n",
    "    os.mkdir('/Users/kausthab/Documents/Documents – Kausthab’s MacBook Air/DSBA/iNeuron Course/Programming')"
   ]
  },
  {
   "cell_type": "code",
   "execution_count": 107,
   "id": "259b1944",
   "metadata": {},
   "outputs": [],
   "source": [
    "src = '/Users/kausthab/Downloads'\n",
    "dest1 = '/Users/kausthab/Documents/Documents – Kausthab’s MacBook Air/DSBA/iNeuron Course/Assignment'\n",
    "dest2 = '/Users/kausthab/Documents/Documents – Kausthab’s MacBook Air/DSBA/iNeuron Course/Programming'"
   ]
  },
  {
   "cell_type": "code",
   "execution_count": 108,
   "id": "a5f8afd5",
   "metadata": {},
   "outputs": [],
   "source": [
    "#moving the file to the respective directories\n",
    "\n",
    "for i in os.listdir('/Users/kausthab/Downloads'):\n",
    "    if i.startswith('Assignment')and i.endswith('.docx'):\n",
    "        shutil.move(os.path.join(src,i),(os.path.join(dest1,i)))  "
   ]
  },
  {
   "cell_type": "code",
   "execution_count": 109,
   "id": "97fa528f",
   "metadata": {},
   "outputs": [],
   "source": [
    "for i in os.listdir('/Users/kausthab/Downloads'):\n",
    "    if i.startswith('Programming')and i.endswith('.docx'):\n",
    "        shutil.move(os.path.join(src,i),(os.path.join(dest2,i)))  "
   ]
  },
  {
   "cell_type": "code",
   "execution_count": 139,
   "id": "00fa3d74",
   "metadata": {},
   "outputs": [],
   "source": [
    "os.chdir('/Users/kausthab/Documents/Documents – Kausthab’s MacBook Air/DSBA/iNeuron Course/Assignment')"
   ]
  },
  {
   "cell_type": "code",
   "execution_count": 190,
   "id": "d9091e6e",
   "metadata": {},
   "outputs": [],
   "source": [
    "files = os.listdir()"
   ]
  },
  {
   "cell_type": "code",
   "execution_count": 188,
   "id": "18d56149",
   "metadata": {},
   "outputs": [],
   "source": [
    "#creating the master files for the individual directories\n",
    "\n",
    "for i in files:\n",
    "    if i != '.DS_Store': #i kept getting an error for a hidden file. So excluded it\n",
    "        doc1.add_heading(i,2)\n",
    "        doc2 = Document(i)\n",
    "        for para in doc2.paragraphs:\n",
    "            para_in_doc = doc1.add_paragraph(para.text)\n",
    "        doc1.add_page_break()\n",
    "        \n",
    "doc1.save('master.docx')"
   ]
  }
 ],
 "metadata": {
  "kernelspec": {
   "display_name": "Python 3",
   "language": "python",
   "name": "python3"
  },
  "language_info": {
   "codemirror_mode": {
    "name": "ipython",
    "version": 3
   },
   "file_extension": ".py",
   "mimetype": "text/x-python",
   "name": "python",
   "nbconvert_exporter": "python",
   "pygments_lexer": "ipython3",
   "version": "3.8.3"
  }
 },
 "nbformat": 4,
 "nbformat_minor": 5
}
